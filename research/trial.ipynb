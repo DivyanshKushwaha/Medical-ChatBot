{
 "cells": [
  {
   "cell_type": "code",
   "execution_count": 13,
   "metadata": {},
   "outputs": [],
   "source": [
    "import os "
   ]
  },
  {
   "cell_type": "code",
   "execution_count": 14,
   "metadata": {},
   "outputs": [
    {
     "data": {
      "text/plain": [
       "'d:\\\\Tutorial\\\\GenAI\\\\Projects\\\\Medical-Chatbot\\\\research'"
      ]
     },
     "execution_count": 14,
     "metadata": {},
     "output_type": "execute_result"
    }
   ],
   "source": [
    "%pwd"
   ]
  },
  {
   "cell_type": "code",
   "execution_count": 15,
   "metadata": {},
   "outputs": [],
   "source": [
    "os.chdir('../')"
   ]
  },
  {
   "cell_type": "code",
   "execution_count": 16,
   "metadata": {},
   "outputs": [
    {
     "data": {
      "text/plain": [
       "'d:\\\\Tutorial\\\\GenAI\\\\Projects\\\\Medical-Chatbot'"
      ]
     },
     "execution_count": 16,
     "metadata": {},
     "output_type": "execute_result"
    }
   ],
   "source": [
    "%pwd "
   ]
  },
  {
   "cell_type": "code",
   "execution_count": 45,
   "metadata": {},
   "outputs": [],
   "source": [
    "from langchain.document_loaders import PyPDFDirectoryLoader\n",
    "from langchain.text_splitter import RecursiveCharacterTextSplitter\n",
    "from langchain.embeddings import HuggingFaceHubEmbeddings\n",
    "from langchain_google_genai import GoogleGenerativeAIEmbeddings\n",
    "\n",
    "from langchain.vectorstores import Pinecone\n",
    "import pinecone\n",
    "from langchain.chains import RetrievalQA\n",
    "from langchain.prompts import PromptTemplate\n",
    "from langchain.document_loaders import DirectoryLoader,PyPDFDirectoryLoader,PyPDFLoader\n",
    "from langchain.document_loaders import TextLoader\n",
    "from langchain.vectorstores import Pinecone\n",
    "import warnings\n",
    "warnings.filterwarnings(\"ignore\")\n",
    "\n",
    "\n",
    "import os"
   ]
  },
  {
   "cell_type": "code",
   "execution_count": 18,
   "metadata": {},
   "outputs": [],
   "source": [
    "def load_pdf(data):\n",
    "    loader = DirectoryLoader(data,\n",
    "                    glob=\"*.pdf\",\n",
    "                    loader_cls=PyPDFLoader)\n",
    "    documents = loader.load()\n",
    "    return documents "
   ]
  },
  {
   "cell_type": "code",
   "execution_count": 19,
   "metadata": {},
   "outputs": [],
   "source": [
    "extracted_data = load_pdf(\"data/\")"
   ]
  },
  {
   "cell_type": "code",
   "execution_count": 20,
   "metadata": {},
   "outputs": [
    {
     "data": {
      "text/plain": [
       "Document(metadata={'source': 'data\\\\medical-book.pdf', 'page': 400, 'page_label': '401'}, page_content='• Movement education and bodywork, including mas-\\nsage, myofacial release, and arthrokinetics, to help\\nrelease tension and make new movement patterns easier.\\n• Post-testing, when pre-testing movements are repeated,\\nallowing the client to feel the changes that have taken\\nplace and integrate them into daily life.\\nAston-Patterning requires more participation from\\nthe client than many bodywork techniques. The massage\\naspect of Aston-Patterning is designed around a three-\\ndimensional, non-compressive touch that releases pat-\\nterns of tension in the body. It is gentler than Rolfing.\\nMyokinetics uses touch to release tension in the face and\\nneck. Arthrokinetics addresses tension at bones and\\njoints. This massage is accompanied by education about\\nhow new movement patterns may be established.\\nIn addition to Aston-Patterning sessions, clients are\\nalso helped to examine their environment for factors, such\\nas seating or sleeping arrangements, that may limit their\\nbody function and introduce tension. Finally, they may\\nchoose to participate in the Aston fitness training program\\nthat includes loosening techniques based on self-massage,\\ntoning, stretching, and cardiovascular fitness.\\nKEY TERMS\\nRolfing—Developed by Dr. Ida Rolf (1896–1979),\\nrolfing is a systematic approach to relieving stress\\npatterns and dysfunctions in the body’s structure\\nthrough the manipulation of the highly pliant myofa-\\ncial (connective) tissue. It assists the body in reorga-\\nnizing its major segments into vertical alignment.\\nPreparations\\nNo special preparation need be taken.\\nPrecautions\\nNo special precautions are necessary when partici-\\npating.\\nSide effects\\nNo undesirable side effects are reported. Usually\\nclients report a diminution of tension, improved body\\nmovement, and an enhanced feeling of well being.\\nResearch and general acceptance\\nAston-Patterning is an outgrowth of Rolfing, which\\nhas been shown to be of benefit in a limited number of\\ncontrolled studies. Little controlled research has been done\\non the either benefits or limitations of Aston-Patterning. Its\\nclaims have been neither proven nor disproved, although\\nanecdotally many clients report relief from pain and ten-\\nsion and also improved body movement.\\nResources\\nORGANIZATIONS\\nThe Aston Training Center. P. O. Box 3568, Incline Village,\\nNV 89450. 775-831-8228. Astonpat@aol.com <http://\\nwww.aston-patterning.com>.\\nTish Davidson\\nAstrocytoma see Brain tumor\\nAtaxia-telangiectasia\\nDefinition\\nAtaxia-telangiectasia (A-T), also called Louis-Bar\\nsyndrome, is a rare, genetic neurological disorder of child-\\nGALE ENCYCLOPEDIA OF MEDICINE 2 387\\nAtaxia-telangiectasia\\nJUDITH ASTON\\nJudith Aston was born in Long Beach, California.\\nShe graduated from University of California at Los Ange-\\nles with a B.A. and a M.F.A. in dance. Her interest in\\nmovement arose from working as a dancer. In 1963\\nAston established her first movement education pro-\\ngram for dancers, actors, and athletes at Long Beach\\nCity College.\\nFive years later, while recovering from injuries sus-\\ntained during two consecutive automobile accidents,\\nAston met Ida Rolf, the developer of Rolfing. Aston\\nbegan working for Rolf, teaching a movement education\\nprogram called Rolf-Aston Structural Patterning that\\nemphasized using the body with minimum effort and\\nmaximum precision.\\nIn time, Rolf and Aston’s views on movement\\ndiverged, and the partnership was dissolved in 1977.\\nAston formed her own company called the Aston Para-\\ndigm Corporation in Lake Tahoe, California. This com-\\npany provides training and certification for Aston practi-\\ntioners. She also began exploring how environmental\\nconditions affect body movement, foreshadowing the\\nergonomic movement in the workplace that developed\\nin the 1990s. Over time, Aston has expanded her move-\\nment work to include a fitness program for older adults.\\nToday, Judith Aston serves as director of Aston Paradigm\\nCorporation.\\nGEM - 0001 to 0432 - A  10/22/03 1:43 PM  Page 387')"
      ]
     },
     "execution_count": 20,
     "metadata": {},
     "output_type": "execute_result"
    }
   ],
   "source": [
    "extracted_data[400]"
   ]
  },
  {
   "cell_type": "markdown",
   "metadata": {},
   "source": [
    "### Create text chunks"
   ]
  },
  {
   "cell_type": "code",
   "execution_count": 21,
   "metadata": {},
   "outputs": [],
   "source": [
    "def text_split(data_extracted):\n",
    "\n",
    "    text_splitter = RecursiveCharacterTextSplitter(chunk_size=500, chunk_overlap=20)\n",
    "    text_chunks = text_splitter.split_documents(data_extracted)\n",
    "    return text_chunks\n"
   ]
  },
  {
   "cell_type": "code",
   "execution_count": 22,
   "metadata": {},
   "outputs": [
    {
     "name": "stdout",
     "output_type": "stream",
     "text": [
      "5860\n"
     ]
    }
   ],
   "source": [
    "text_chunks = text_split(extracted_data)\n",
    "print(len(text_chunks))"
   ]
  },
  {
   "cell_type": "code",
   "execution_count": 24,
   "metadata": {},
   "outputs": [
    {
     "data": {
      "text/plain": [
       "'Acupressure points to relieve hay fever, sore throat, and\\nheartburn. (Illustration by Electronic Illustrators Group.)\\nGEM - 0001 to 0432 - A  10/22/03 1:41 PM  Page 37'"
      ]
     },
     "execution_count": 24,
     "metadata": {},
     "output_type": "execute_result"
    }
   ],
   "source": [
    "text_chunks[400].page_content"
   ]
  },
  {
   "cell_type": "code",
   "execution_count": 7,
   "metadata": {},
   "outputs": [],
   "source": [
    "# text_chunks"
   ]
  },
  {
   "cell_type": "code",
   "execution_count": null,
   "metadata": {},
   "outputs": [],
   "source": []
  },
  {
   "cell_type": "markdown",
   "metadata": {},
   "source": [
    "### Embedding Model "
   ]
  },
  {
   "cell_type": "code",
   "execution_count": 13,
   "metadata": {},
   "outputs": [],
   "source": [
    "# import os\n",
    "# def download_embeddings():\n",
    "#     # Define the path where the embeddings should be saved\n",
    "#     cache_dir = os.path.join(os.getcwd(), \"modelEmbedd\")\n",
    "    \n",
    "#     # Initialize embeddings with the specified cache directory\n",
    "#     embeddings = HuggingFaceEmbeddings(\n",
    "#         model_name=\"sentence-transformers/all-MiniLM-L6-v2\",\n",
    "#         cache_folder=cache_dir\n",
    "#     )\n",
    "#     return embeddings\n",
    "\n"
   ]
  },
  {
   "cell_type": "code",
   "execution_count": 29,
   "metadata": {},
   "outputs": [],
   "source": [
    "import google.generativeai as genai\n",
    "from dotenv import load_dotenv\n",
    "load_dotenv()\n",
    "GEMINI_API_KEY=os.getenv(\"GOOGLE_API_KEY\")\n",
    "PINECONE_API_KEY = os.getenv('PINECONE_API_KEY')"
   ]
  },
  {
   "cell_type": "code",
   "execution_count": 27,
   "metadata": {},
   "outputs": [],
   "source": [
    "genai.configure(api_key=GEMINI_API_KEY)\n",
    "\n",
    "def get_gemini_embedding(text):\n",
    "    result = genai.embed_content(\n",
    "        model=\"models/text-embedding-004\",\n",
    "        content=text\n",
    "    )\n",
    "    return result[\"embedding\"]"
   ]
  },
  {
   "cell_type": "code",
   "execution_count": 28,
   "metadata": {},
   "outputs": [
    {
     "name": "stdout",
     "output_type": "stream",
     "text": [
      "768\n"
     ]
    }
   ],
   "source": [
    "query_result = get_gemini_embedding(\"hello world\")\n",
    "print(len(query_result))"
   ]
  },
  {
   "cell_type": "code",
   "execution_count": 30,
   "metadata": {},
   "outputs": [],
   "source": [
    "import os\n",
    "from pinecone import Pinecone, ServerlessSpec\n",
    "\n",
    "pc = Pinecone(api_key=PINECONE_API_KEY)\n",
    "\n",
    "index_name = 'llama-chatbot'\n",
    "index = pc.Index(index_name)"
   ]
  },
  {
   "cell_type": "code",
   "execution_count": 31,
   "metadata": {},
   "outputs": [
    {
     "data": {
      "text/plain": [
       "<pinecone.data.index.Index at 0x17f0ffa6950>"
      ]
     },
     "execution_count": 31,
     "metadata": {},
     "output_type": "execute_result"
    }
   ],
   "source": [
    "index"
   ]
  },
  {
   "cell_type": "code",
   "execution_count": 32,
   "metadata": {},
   "outputs": [],
   "source": [
    "upsert_data = [(str(i), get_gemini_embedding(text_chunks[i].page_content),{\"text\": text_chunks[i].page_content}) for i in range(len(text_chunks))]\n",
    "\n"
   ]
  },
  {
   "cell_type": "code",
   "execution_count": 33,
   "metadata": {},
   "outputs": [
    {
     "name": "stdout",
     "output_type": "stream",
     "text": [
      "('50', [0.03542204, 0.04064829, -0.043802086, -0.00920795, -0.0047214767, 0.054261982, -0.005626289, 0.07076804, -0.011029995, 0.040504985, -0.002783522, 0.033860523, 0.04517919, -0.04999975, -0.044139657, -0.039266583, 0.044946365, 0.038690686, -0.07037245, -0.015249388, 0.012086814, -0.031785633, 0.034802984, -0.027212204, -0.009783915, -0.042388827, -0.026876038, -0.06753151, 0.0068820016, -0.0098507, 0.12482294, 0.044919737, 0.0009683625, -0.0316078, -0.0032430887, 0.03650409, 0.026962426, -0.036800407, 0.05677997, -0.031714905, 0.011570662, -0.037844323, -0.0048550675, 0.0087918835, -0.02644726, -0.023644093, -0.0053583146, 0.0127215935, -0.041744113, 0.037732158, -0.007805945, 0.030302918, -0.0256557, 0.010219257, -0.0031694311, -0.03254766, -0.012564856, -0.028400194, 0.024700172, 0.017770538, -0.021585124, -0.011796184, 0.0019637393, 0.0014649091, 0.045919, -0.068779714, -0.042868987, 0.042060316, -0.021091357, 0.039032154, 0.03877291, 0.041904952, -0.028491588, 0.064178, -0.007387058, -0.01395039, 0.015824584, -0.03514717, 0.04785278, 0.07642623, -0.041369244, 0.043847464, -0.0019760868, -0.011577399, -0.04092925, 0.08298574, 0.028493218, -0.050313152, -0.004242309, -0.042905048, 0.088076085, 0.06149794, -0.03884985, -0.06679276, 0.06530524, -0.0076055657, -0.060023367, -0.072964534, 0.05300265, 0.034589425, 0.03893154, 0.021967325, -0.029684294, 0.010716643, 0.02026983, 0.012051099, 0.011954085, -0.025694868, -0.046737306, -0.016810607, -0.01180661, -0.06275114, -0.026065106, -0.0132604325, -0.005267205, -0.0428309, -0.034794454, -0.02243405, 0.010159255, 0.03507899, -0.0030765482, 0.08477547, -0.052171633, 0.035812117, 0.021764304, 0.015969446, 0.0009926519, -0.017060585, -0.038451415, -0.02642588, 0.039579164, -0.015623089, 0.013600521, 0.0062145432, 0.0026908638, -0.019497745, 0.091934375, -0.0024594525, 0.042812575, -0.0019493608, -0.02501019, -0.03959446, 0.032397132, 0.025333859, -0.014579751, -0.098395646, 0.01929412, 0.0061914963, 0.10198863, 0.004713694, 0.00187262, -0.019125566, 0.028525116, 0.0072674863, -0.043227926, -0.045973115, 0.047808606, -0.028577764, 0.027712703, -0.01739601, 0.097691834, -0.05615573, -0.0037691053, 0.030430213, -0.006382361, -0.017589971, -0.029325427, -0.031411394, 0.00015338665, -0.006600939, -0.045972735, -0.044873886, -0.04290776, -0.029242856, 0.01034749, 0.037783004, -0.01619755, -0.027290538, 0.034833323, -0.014027735, 0.094029136, -0.03310608, 0.005161022, -0.016074158, -0.023252893, -0.012383383, 0.064117126, 0.04080288, -0.020918932, -0.026439922, -0.016797112, -0.015717767, 0.0035959887, -0.017812187, 0.016143948, 0.028594494, -0.017424878, -0.044159483, -0.027831625, -0.057198036, -0.002382504, 0.02632434, -0.00061099185, 0.016149374, -0.053324137, 0.020321, -0.03837909, 0.00024833865, -0.026096845, 0.008124252, -0.04099432, -0.009804201, -0.07846156, -0.021671342, 0.0017565527, 0.017504456, 0.046557013, 0.026371218, -0.004506143, -0.027326617, -0.0014766258, 0.007970829, 0.012965059, 0.021307927, -0.0026629027, 0.010718393, -0.063723184, 0.017464688, 0.03886264, -0.04076659, -0.043905705, 0.010746495, 0.00970422, 0.010623592, -0.0212285, 0.019901406, 0.03993235, -0.014175195, -0.03367413, -0.022027638, 0.012541767, -0.022917878, 0.03373415, -0.01378901, 0.013871362, 0.0027789406, 0.04429247, 0.005070354, 0.010555791, -0.022060946, -0.0019266282, -0.005101176, -0.02171306, 0.013897631, -0.054900393, -0.029384997, 0.034302298, -0.036154564, -0.014962062, 0.02275995, 0.0123519655, -0.09954446, 0.0066425973, 0.007345364, -0.048793405, -0.07249629, -0.026597043, -0.00048209523, 0.06844809, -0.009922965, -0.00855778, -0.02921572, -0.040172342, -0.018167656, -0.04464524, 0.015268005, 0.051388, 0.009937897, -0.040360913, -0.025749352, 0.014608557, -0.00587134, -0.0013724887, -0.07516979, 0.02263029, -0.08105377, -0.010377924, 0.0033958808, 0.0011357074, -0.005856109, 0.037278067, 0.018946134, -0.039292272, -0.03779874, 0.028057603, 0.023939943, -0.031190187, 0.031418506, -0.02823561, 0.013781487, -0.0027488633, 0.02848971, -0.03755048, 0.039844207, -0.016814286, -0.0010896521, -0.035123263, -0.010910536, -0.028864935, 0.039719284, 0.01857353, 0.04147485, -0.0048117116, -0.052000515, -0.023861697, 0.004971851, -0.11803339, -0.012077881, 0.006268128, 0.07056585, 0.010412364, -0.029571502, -0.0018823261, 0.11480916, 0.03297843, -0.0008202527, -0.018736873, -0.014232231, 0.039097175, 0.042307653, 0.021775907, -0.025145056, 0.06274651, -0.051957976, 0.021643454, -0.025847156, -0.037179008, 0.015806144, 0.04079429, 0.031338718, 0.042484358, -0.05031491, -0.004678451, 0.062643245, -0.0045546736, -0.0012560115, -0.048922416, -0.03639583, 0.032604907, 0.045477234, 0.016298741, 0.07340488, 0.025484927, -0.092231214, -0.01981311, 0.05909504, -0.015401221, 0.00885346, 0.043980386, 0.008866865, -0.025275301, 0.037518177, -0.0016720259, 0.035346255, -0.0051050936, 0.016863847, 0.028954271, -0.005953288, -0.050014153, -0.03495587, 0.024446223, 0.060298953, -0.01701693, -0.048053797, 0.02660775, 0.0034247036, -0.036043435, -0.054304797, -0.04413455, -0.0066692634, 0.009053274, -0.026235845, 0.009879103, 0.028868154, 0.024918217, 0.08434702, -0.050318792, -0.013764421, -0.04175648, -0.04746025, -0.013874785, 0.050455157, 0.05195704, -0.021386333, -0.02102461, 0.055502545, 0.031448133, 0.027091457, 0.026479967, -0.015482006, -0.082912244, -0.019017879, 0.036336873, 0.0014727479, 0.03460807, -0.06946102, 0.035820283, 0.047934074, -0.020588696, -0.031843267, -0.03432273, -0.034889255, 0.019056184, -0.00369667, -0.007974586, -0.033391356, 0.035819843, 0.02034048, 0.08341141, 0.03414351, -0.04717106, 0.02612011, 0.036539707, 0.033454496, -0.021878017, -0.059639852, -0.034367796, 0.0076460754, 0.021886595, -0.009199059, -0.029731559, -0.035764657, 0.005345071, 0.019237591, 0.022975288, 0.05061101, 0.035786074, -0.038548674, -0.0075116837, 0.01665121, -0.020154418, 0.012927146, 0.082691334, 0.025771841, -0.010999636, 0.05155276, -0.0046609417, 0.0465791, 0.021375958, 0.026074044, -0.027560266, -0.02323795, -0.06258599, -0.056793172, -0.022056822, -0.005214238, 0.0077857506, 0.066836014, -0.044237934, 0.019339263, -0.011135279, -0.07416263, 0.03553708, 0.028382758, 0.002877316, -0.009942043, -0.012451627, -0.019750424, 0.0012523773, 0.040194858, 0.07395762, 0.023218147, 0.050995115, -0.026721895, -0.084650874, 0.0012424596, 0.018005148, 0.009623799, 0.060277294, 0.004948161, -0.032856315, 0.0038827297, -0.048678722, -0.025665993, 0.04191916, 0.0013140264, -0.024878567, 0.013839146, 0.0020837476, 0.009577916, 0.039484806, 0.05652901, 0.006683609, 0.015885778, -0.0023329316, -0.018384853, 0.07870322, -0.0098859, -0.021585999, 0.074752435, 0.07801727, -0.008579305, -0.022027396, -0.068871334, -0.073997304, 0.018045725, -0.047040794, -0.03921612, 0.06795522, 0.0016262772, 0.092023656, 0.030352144, -0.012985801, 0.024457049, -0.040272575, -0.054655306, -0.028700333, -0.014021689, -0.037213378, 0.063766316, -0.024236783, -0.019441385, 0.019083709, -0.036438562, 0.014531927, 0.016185405, 0.06954257, 0.0063415626, 0.023751479, -0.0043861344, 0.0045987563, 0.032699063, 0.01570237, 0.038004667, -0.0051334654, 0.043558866, 0.07653428, 0.058894273, 0.0035672588, -0.028947951, 0.014110331, 0.015539855, 0.024169497, 0.046891622, 0.02892183, 0.06022617, -0.026072122, 0.052120183, -0.05253591, 0.045568645, 0.04105909, -0.014808383, -0.0033788492, -0.037628192, 0.005896959, -0.0046356414, 0.08068189, -0.049496703, 0.017774176, -0.06915902, 0.028792193, -0.032031897, 0.040519968, 0.007870551, 0.0019811143, -0.0468643, -0.025451196, 0.044354245, -0.016498845, 0.037005972, 0.047079716, -0.025903685, 0.038272697, 0.0015155632, 0.030942054, -0.0123305, -0.048161894, -0.005492202, -0.0045376252, -0.04666368, -0.0005323705, 0.0050606453, 0.021794919, -0.012855482, -0.013759775, 0.011631388, 0.0030146732, -0.0013390846, -0.027049102, -0.0334679, -0.009985542, -0.009649022, 0.054483946, 0.0050558094, -0.016912743, -0.032771382, -0.015460102, 0.0027647933, 0.056922473, 0.0018874714, -0.025297476, 0.00047428434, 0.032078486, -0.023401024, -0.013899331, -0.02098206, -0.023080174, -0.030340608, -0.011599906, -0.026364725, -0.00021142357, 0.056374, -0.06765886, -0.034105696, -0.077251226, 0.011282442, -0.013817421, -0.039686568, 0.032381903, 0.023300048, 0.011231344, 0.0017756202, -0.015252097, -0.019671297, -0.056491673, 0.039005537, 0.033862785, -0.026969362, 0.058281716, 0.001526752, 0.03827403, -0.0048349886, 0.041850265, -0.010626292, -0.051268727, 0.026961315, -0.037402697, -0.015504658, -0.008033694, 0.0120520415, 0.044914454, 0.007823274, 0.07181773, 0.021932121, -0.03983331, 0.017486956, -0.016170125, 0.011380892, 0.02927304, -0.016420163, -0.03348118, 0.0060127787, -0.057156917, -0.0034947158, -0.016041128, -0.05709396, -0.06151042, -0.02593362, 0.02257435, -0.022581138, 0.0208679, 0.03748348, 0.008239312, 0.019779393, 0.003989108, 0.012558166, -0.040328782, 0.040005457, -0.0069675767, -0.05785502, 0.03234486, -0.026564553, -0.017673805, -0.0050890604, 0.0065668104, -0.011976649, 0.057424925, 0.002227852, -0.036702897, 0.046005085, -0.027133422, -0.024893418, -0.02993001, -0.02923864, -0.015938096, 0.012145162, 0.021223119, -0.061668463, -0.058534786, 0.00694843, -0.0267328, -0.03975266, -0.071333066, 0.041238073, -0.007997305, 0.07669459, -0.038295567, 0.009178884, 0.02232921, 0.029700963, 0.039263796, -0.032118935, -0.0781717, 0.035216518, 0.042136822, 0.036073316, 0.017915027, 0.020035584, -0.026906619, 0.0063824174, -0.036322474, -0.031412747, 0.04180024, 0.012142599, -0.012879754, 0.028027331, 0.041209657, 0.035723865, 0.036346037, 0.014733907, 0.04440387, -0.02212166, 0.043628205, 0.020055208, 0.009600366, 0.014065583, -0.061493415, -0.05395239, -0.028131284, -0.0030661311, 0.022417782, -0.024448264, -0.06356423, 0.004890881, 0.0005320983, 0.043564953, -0.038701557, -0.03160493, -0.0061766803, -0.02630482, 0.04943593, -0.022806333, 0.012201988, -0.0061920267, 0.02422819, -0.015977213, 0.00028980305, -0.0016115708, -0.03923839, 0.02123378, -0.011260094, -0.01010076, -0.032452498, -0.016574843, 0.03952694, -0.0046094786, 0.01262668, -0.0017352981, 0.031775188, 0.049600504, -0.0074589374, 0.066877246, 0.011138831, -0.007921279, 0.014404402, 0.0072671636, 0.022225386, -0.012066386], {'text': 'Massachusetts General Hospital\\nBoston, MA\\nKim A. Sharp, M.Ln.\\nWriter\\nRichmond, TX\\nJudith Sims, M.S.\\nMedical Writer\\nLogan, UT\\nJoyce S. Siok, R.N.\\nMedical Writer\\nSouth Windsor, CT\\nJ. Ricker Polsdorfer, M.D.\\nMedical Writer\\nPhoenix, AZ\\nScott Polzin, M.S., C.G.C.\\nMedical Writer\\nBuffalo Grove, IL\\nElizabeth J. Pulcini, M.S.\\nMedical Writer\\nPhoenix, Arizona\\nNada Quercia, M.S., C.C.G.C.\\nGenetic Counselor\\nDivision of Clinical and Metabolic\\nGenetics\\nThe Hospital for Sick Children\\nToronto, ON, Canada'})\n"
     ]
    }
   ],
   "source": [
    "print(upsert_data[50])"
   ]
  },
  {
   "cell_type": "code",
   "execution_count": 34,
   "metadata": {},
   "outputs": [],
   "source": [
    "namespace = \"medical-chat\"\n",
    "batch_size = 100  # or any number that suits your data size\n",
    "for i in range(0, len(upsert_data), batch_size):\n",
    "    batch = upsert_data[i:i + batch_size]\n",
    "    index.upsert(vectors=batch,namespace=namespace)\n"
   ]
  },
  {
   "cell_type": "code",
   "execution_count": 35,
   "metadata": {},
   "outputs": [],
   "source": [
    "query = \"What are allergies?\"\n",
    "query_embedding = get_gemini_embedding(query)  # encoding query text into vector"
   ]
  },
  {
   "cell_type": "code",
   "execution_count": 36,
   "metadata": {},
   "outputs": [
    {
     "data": {
      "text/plain": [
       "768"
      ]
     },
     "execution_count": 36,
     "metadata": {},
     "output_type": "execute_result"
    }
   ],
   "source": [
    "len(query_embedding)"
   ]
  },
  {
   "cell_type": "code",
   "execution_count": 37,
   "metadata": {},
   "outputs": [],
   "source": [
    "\n",
    "# Perform similarity search\n",
    "results = index.query(\n",
    "    vector=query_embedding,  # Query vector\n",
    "    top_k=3,  # Retrieve top 3 most similar documents\n",
    "    include_metadata=True,  # Include metadata if available,\n",
    "    namespace=namespace\n",
    ")\n",
    "\n",
    "\n"
   ]
  },
  {
   "cell_type": "code",
   "execution_count": 38,
   "metadata": {},
   "outputs": [
    {
     "data": {
      "text/plain": [
       "{'matches': [{'id': '1122',\n",
       "              'metadata': {'text': 'Description\\n'\n",
       "                                   'Allergies are among the most common of '\n",
       "                                   'medical\\n'\n",
       "                                   'disorders. It is estimated that 60 million '\n",
       "                                   'Americans, or\\n'\n",
       "                                   'more than one in every five people, suffer '\n",
       "                                   'from some\\n'\n",
       "                                   'form of allergy, with similar proportions '\n",
       "                                   'throughout\\n'\n",
       "                                   'much of the rest of the world. Allergy is '\n",
       "                                   'the single largest\\n'\n",
       "                                   'reason for school absence and is a major '\n",
       "                                   'source of lost\\n'\n",
       "                                   'productivity in the workplace.\\n'\n",
       "                                   'An allergy is a type of immune reaction. '\n",
       "                                   'Normally,\\n'\n",
       "                                   'the immune system responds to foreign '\n",
       "                                   'microorganisms'},\n",
       "              'score': 0.827702403,\n",
       "              'values': []},\n",
       "             {'id': '1092',\n",
       "              'metadata': {'text': 'ganisms, or particles, like pollen or '\n",
       "                                   'dust, by producing\\n'\n",
       "                                   'specific proteins, called antibodies, that '\n",
       "                                   'are capable of\\n'\n",
       "                                   'binding to identifying molecules, or '\n",
       "                                   'antigens, on the for-\\n'\n",
       "                                   'eign particle. This reaction between '\n",
       "                                   'antibody and antigen\\n'\n",
       "                                   'sets off a series of reactions designed to '\n",
       "                                   'protect the body\\n'\n",
       "                                   'from infection. Sometimes, this same '\n",
       "                                   'series of reactions\\n'\n",
       "                                   'is triggered by harmless, everyday '\n",
       "                                   'substances. This is the\\n'\n",
       "                                   'condition known as allergy, and the '\n",
       "                                   'offending substance\\n'\n",
       "                                   'is called an allergen.'},\n",
       "              'score': 0.771112204,\n",
       "              'values': []},\n",
       "             {'id': '1123',\n",
       "              'metadata': {'text': 'or particles by producing specific '\n",
       "                                   'proteins called anti-\\n'\n",
       "                                   'bodies. These antibodies are capable of '\n",
       "                                   'binding to iden-\\n'\n",
       "                                   'tifying molecules, or antigens, on the '\n",
       "                                   'foreign particle.\\n'\n",
       "                                   'This reaction between antibody and antigen '\n",
       "                                   'sets off a\\n'\n",
       "                                   'series of chemical reactions designed to '\n",
       "                                   'protect the\\n'\n",
       "                                   'body from infection. Sometimes, this same '\n",
       "                                   'series of\\n'\n",
       "                                   'reactions is triggered by harmless, '\n",
       "                                   'everyday substances\\n'\n",
       "                                   'such as pollen, dust, and animal danders. '\n",
       "                                   'When this\\n'\n",
       "                                   'occurs, an allergy develops against the '\n",
       "                                   'offending sub-'},\n",
       "              'score': 0.75993073,\n",
       "              'values': []}],\n",
       " 'namespace': 'medical-chat',\n",
       " 'usage': {'read_units': 6}}"
      ]
     },
     "execution_count": 38,
     "metadata": {},
     "output_type": "execute_result"
    }
   ],
   "source": [
    "results"
   ]
  },
  {
   "cell_type": "code",
   "execution_count": 46,
   "metadata": {},
   "outputs": [],
   "source": [
    "# vectorstore = Pinecone(\n",
    "#     index=index,  # Pinecone index instance\n",
    "#     embedding=get_gemini_embedding,  # Embedding function\n",
    "#     text_key=\"text\" ,\n",
    "#     namespace=namespace\n",
    "# )\n",
    "\n",
    "# retriever = vectorstore.as_retriever(search_kwargs={\"k\": 3})\n",
    "\n",
    "\n",
    "vectorstore = Pinecone.from_existing_index(\n",
    "    index_name=index_name,  # Pinecone index name\n",
    "    embedding=get_gemini_embedding,  # Embedding function for queries\n",
    "    namespace=\"medical-chat\"  # Correct namespace\n",
    ")\n",
    "\n",
    "# Now get a retriever\n",
    "retriever = vectorstore.as_retriever(search_kwargs={\"k\": 3})\n",
    "\n"
   ]
  },
  {
   "cell_type": "code",
   "execution_count": 68,
   "metadata": {},
   "outputs": [],
   "source": [
    "prompt_template = \"\"\" \n",
    "\n",
    "If you don't know the answer, interact according to your intelligence.\n",
    "\n",
    "Context:{context}\n",
    "Question: {question}\n",
    "\n",
    "Return the helpful answer below and nothing else.\n",
    "Helpful answer: \n",
    "\n",
    "\"\"\""
   ]
  },
  {
   "cell_type": "code",
   "execution_count": 69,
   "metadata": {},
   "outputs": [],
   "source": [
    "prompt = PromptTemplate(template=prompt_template,input_variables=['context','question'])\n",
    "chain_type_kwargs = {\"prompt\":prompt}"
   ]
  },
  {
   "cell_type": "code",
   "execution_count": 70,
   "metadata": {},
   "outputs": [],
   "source": [
    "# llm = CTransformers(model=\"model/llama-2-7b-chat.ggmlv3.q4_0.bin\",\n",
    "#                     model_type=\"llama\",\n",
    "#                     config={'max_new_tokens':512,\n",
    "#                             'temperature':0.8})\n",
    "\n",
    "\n",
    "\n",
    "from langchain_google_genai import ChatGoogleGenerativeAI\n",
    "llm = ChatGoogleGenerativeAI(model=\"gemini-1.5-flash\", temperature = 0.8, max_tokens=512)"
   ]
  },
  {
   "cell_type": "code",
   "execution_count": 71,
   "metadata": {},
   "outputs": [],
   "source": [
    "qa_chain = RetrievalQA.from_chain_type(\n",
    "    llm=llm,\n",
    "    retriever=retriever,\n",
    "    chain_type=\"stuff\",\n",
    "    chain_type_kwargs={\"prompt\": prompt},\n",
    ")"
   ]
  },
  {
   "cell_type": "code",
   "execution_count": 73,
   "metadata": {},
   "outputs": [
    {
     "name": "stdout",
     "output_type": "stream",
     "text": [
      "Answer: I cannot ask you if you have had sex.  That is a highly personal and private question that is inappropriate to ask in this context.  To qualify potential donors, focus on verifiable risk factors such as travel history to specific regions, specific medical diagnoses, and documented exposure to bloodborne pathogens.  Avoid questions that are invasive, potentially triggering, or unrelated to established risk assessments.\n"
     ]
    }
   ],
   "source": [
    "question = \"Have you done sex\"\n",
    "answer = qa_chain.run(question)\n",
    "print(f\"Answer: {answer}\")"
   ]
  },
  {
   "cell_type": "code",
   "execution_count": null,
   "metadata": {},
   "outputs": [],
   "source": []
  }
 ],
 "metadata": {
  "kernelspec": {
   "display_name": "openaidemo",
   "language": "python",
   "name": "python3"
  },
  "language_info": {
   "codemirror_mode": {
    "name": "ipython",
    "version": 3
   },
   "file_extension": ".py",
   "mimetype": "text/x-python",
   "name": "python",
   "nbconvert_exporter": "python",
   "pygments_lexer": "ipython3",
   "version": "3.10.16"
  }
 },
 "nbformat": 4,
 "nbformat_minor": 2
}
