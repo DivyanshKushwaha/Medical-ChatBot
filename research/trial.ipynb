{
 "cells": [
  {
   "cell_type": "code",
   "execution_count": 7,
   "metadata": {},
   "outputs": [],
   "source": [
    "import os "
   ]
  },
  {
   "cell_type": "code",
   "execution_count": 8,
   "metadata": {},
   "outputs": [
    {
     "data": {
      "text/plain": [
       "'d:\\\\Tutorial\\\\GenAI\\\\Projects\\\\Medical-Chatbot\\\\research'"
      ]
     },
     "execution_count": 8,
     "metadata": {},
     "output_type": "execute_result"
    }
   ],
   "source": [
    "%pwd"
   ]
  },
  {
   "cell_type": "code",
   "execution_count": 9,
   "metadata": {},
   "outputs": [],
   "source": [
    "os.chdir('../')"
   ]
  },
  {
   "cell_type": "code",
   "execution_count": 10,
   "metadata": {},
   "outputs": [
    {
     "data": {
      "text/plain": [
       "'d:\\\\Tutorial\\\\GenAI\\\\Projects\\\\Medical-Chatbot'"
      ]
     },
     "execution_count": 10,
     "metadata": {},
     "output_type": "execute_result"
    }
   ],
   "source": [
    "%pwd "
   ]
  },
  {
   "cell_type": "code",
   "execution_count": 11,
   "metadata": {},
   "outputs": [],
   "source": [
    "from langchain.document_loaders import PyPDFDirectoryLoader\n",
    "from langchain.text_splitter import RecursiveCharacterTextSplitter\n",
    "from langchain_google_genai import GoogleGenerativeAIEmbeddings\n",
    "\n",
    "import pinecone \n",
    "from langchain.chains import RetrievalQA\n",
    "from langchain.prompts import PromptTemplate\n",
    "from langchain.document_loaders import DirectoryLoader,PyPDFDirectoryLoader,PyPDFLoader\n",
    "from langchain.document_loaders import TextLoader\n",
    "import warnings\n",
    "warnings.filterwarnings(\"ignore\")\n",
    "import os"
   ]
  },
  {
   "cell_type": "code",
   "execution_count": 12,
   "metadata": {},
   "outputs": [],
   "source": [
    "def load_pdf(data):\n",
    "    loader = DirectoryLoader(data,\n",
    "                    glob=\"*.pdf\",\n",
    "                    loader_cls=PyPDFLoader)\n",
    "    documents = loader.load()\n",
    "    return documents "
   ]
  },
  {
   "cell_type": "code",
   "execution_count": null,
   "metadata": {},
   "outputs": [],
   "source": [
    "extracted_data = load_pdf(\"data/\")"
   ]
  },
  {
   "cell_type": "code",
   "execution_count": 12,
   "metadata": {},
   "outputs": [
    {
     "data": {
      "text/plain": [
       "Document(metadata={'source': 'data\\\\medical-book.pdf', 'page': 400, 'page_label': '401'}, page_content='• Movement education and bodywork, including mas-\\nsage, myofacial release, and arthrokinetics, to help\\nrelease tension and make new movement patterns easier.\\n• Post-testing, when pre-testing movements are repeated,\\nallowing the client to feel the changes that have taken\\nplace and integrate them into daily life.\\nAston-Patterning requires more participation from\\nthe client than many bodywork techniques. The massage\\naspect of Aston-Patterning is designed around a three-\\ndimensional, non-compressive touch that releases pat-\\nterns of tension in the body. It is gentler than Rolfing.\\nMyokinetics uses touch to release tension in the face and\\nneck. Arthrokinetics addresses tension at bones and\\njoints. This massage is accompanied by education about\\nhow new movement patterns may be established.\\nIn addition to Aston-Patterning sessions, clients are\\nalso helped to examine their environment for factors, such\\nas seating or sleeping arrangements, that may limit their\\nbody function and introduce tension. Finally, they may\\nchoose to participate in the Aston fitness training program\\nthat includes loosening techniques based on self-massage,\\ntoning, stretching, and cardiovascular fitness.\\nKEY TERMS\\nRolfing—Developed by Dr. Ida Rolf (1896–1979),\\nrolfing is a systematic approach to relieving stress\\npatterns and dysfunctions in the body’s structure\\nthrough the manipulation of the highly pliant myofa-\\ncial (connective) tissue. It assists the body in reorga-\\nnizing its major segments into vertical alignment.\\nPreparations\\nNo special preparation need be taken.\\nPrecautions\\nNo special precautions are necessary when partici-\\npating.\\nSide effects\\nNo undesirable side effects are reported. Usually\\nclients report a diminution of tension, improved body\\nmovement, and an enhanced feeling of well being.\\nResearch and general acceptance\\nAston-Patterning is an outgrowth of Rolfing, which\\nhas been shown to be of benefit in a limited number of\\ncontrolled studies. Little controlled research has been done\\non the either benefits or limitations of Aston-Patterning. Its\\nclaims have been neither proven nor disproved, although\\nanecdotally many clients report relief from pain and ten-\\nsion and also improved body movement.\\nResources\\nORGANIZATIONS\\nThe Aston Training Center. P. O. Box 3568, Incline Village,\\nNV 89450. 775-831-8228. Astonpat@aol.com <http://\\nwww.aston-patterning.com>.\\nTish Davidson\\nAstrocytoma see Brain tumor\\nAtaxia-telangiectasia\\nDefinition\\nAtaxia-telangiectasia (A-T), also called Louis-Bar\\nsyndrome, is a rare, genetic neurological disorder of child-\\nGALE ENCYCLOPEDIA OF MEDICINE 2 387\\nAtaxia-telangiectasia\\nJUDITH ASTON\\nJudith Aston was born in Long Beach, California.\\nShe graduated from University of California at Los Ange-\\nles with a B.A. and a M.F.A. in dance. Her interest in\\nmovement arose from working as a dancer. In 1963\\nAston established her first movement education pro-\\ngram for dancers, actors, and athletes at Long Beach\\nCity College.\\nFive years later, while recovering from injuries sus-\\ntained during two consecutive automobile accidents,\\nAston met Ida Rolf, the developer of Rolfing. Aston\\nbegan working for Rolf, teaching a movement education\\nprogram called Rolf-Aston Structural Patterning that\\nemphasized using the body with minimum effort and\\nmaximum precision.\\nIn time, Rolf and Aston’s views on movement\\ndiverged, and the partnership was dissolved in 1977.\\nAston formed her own company called the Aston Para-\\ndigm Corporation in Lake Tahoe, California. This com-\\npany provides training and certification for Aston practi-\\ntioners. She also began exploring how environmental\\nconditions affect body movement, foreshadowing the\\nergonomic movement in the workplace that developed\\nin the 1990s. Over time, Aston has expanded her move-\\nment work to include a fitness program for older adults.\\nToday, Judith Aston serves as director of Aston Paradigm\\nCorporation.\\nGEM - 0001 to 0432 - A  10/22/03 1:43 PM  Page 387')"
      ]
     },
     "execution_count": 12,
     "metadata": {},
     "output_type": "execute_result"
    }
   ],
   "source": [
    "extracted_data[400]"
   ]
  },
  {
   "cell_type": "markdown",
   "metadata": {},
   "source": [
    "### Create text chunks"
   ]
  },
  {
   "cell_type": "code",
   "execution_count": 20,
   "metadata": {},
   "outputs": [],
   "source": [
    "def text_split(data_extracted):\n",
    "\n",
    "    text_splitter = RecursiveCharacterTextSplitter(chunk_size=500, chunk_overlap=20)\n",
    "    text_chunks = text_splitter.split_documents(data_extracted)\n",
    "    return text_chunks\n"
   ]
  },
  {
   "cell_type": "code",
   "execution_count": 21,
   "metadata": {},
   "outputs": [
    {
     "name": "stdout",
     "output_type": "stream",
     "text": [
      "5860\n"
     ]
    }
   ],
   "source": [
    "text_chunks = text_split(extracted_data)\n",
    "print(len(text_chunks))"
   ]
  },
  {
   "cell_type": "code",
   "execution_count": 22,
   "metadata": {},
   "outputs": [
    {
     "data": {
      "text/plain": [
       "'Acupressure points to relieve hay fever, sore throat, and\\nheartburn. (Illustration by Electronic Illustrators Group.)\\nGEM - 0001 to 0432 - A  10/22/03 1:41 PM  Page 37'"
      ]
     },
     "execution_count": 22,
     "metadata": {},
     "output_type": "execute_result"
    }
   ],
   "source": [
    "text_chunks[400].page_content"
   ]
  },
  {
   "cell_type": "code",
   "execution_count": 7,
   "metadata": {},
   "outputs": [],
   "source": [
    "# text_chunks"
   ]
  },
  {
   "cell_type": "code",
   "execution_count": null,
   "metadata": {},
   "outputs": [],
   "source": []
  },
  {
   "cell_type": "markdown",
   "metadata": {},
   "source": [
    "### Embedding Model "
   ]
  },
  {
   "cell_type": "code",
   "execution_count": 15,
   "metadata": {},
   "outputs": [],
   "source": [
    "# import google.generativeai as genai\n",
    "from dotenv import load_dotenv\n",
    "load_dotenv()\n",
    "GEMINI_API_KEY=os.getenv(\"GOOGLE_API_KEY\")\n",
    "PINECONE_API_KEY = os.getenv('PINECONE_API_KEY')"
   ]
  },
  {
   "cell_type": "code",
   "execution_count": null,
   "metadata": {},
   "outputs": [],
   "source": [
    "# genai.configure(api_key=GEMINI_API_KEY)\n",
    "\n",
    "# def get_gemini_embedding(text):\n",
    "#     result = genai.embed_content(\n",
    "#         model=\"models/embedding-001\",\n",
    "#         content=text\n",
    "#     )\n",
    "#     return result[\"embedding\"]"
   ]
  },
  {
   "cell_type": "code",
   "execution_count": 24,
   "metadata": {},
   "outputs": [],
   "source": [
    "embedding_model = GoogleGenerativeAIEmbeddings(model=\"models/text-embedding-004\")\n",
    "# vector = embeddings.embed_query(\"hello, world!\")"
   ]
  },
  {
   "cell_type": "code",
   "execution_count": 25,
   "metadata": {},
   "outputs": [
    {
     "name": "stdout",
     "output_type": "stream",
     "text": [
      "768\n"
     ]
    }
   ],
   "source": [
    "query_result = embedding_model.embed_query(\"hello world\")\n",
    "print(len(query_result))"
   ]
  },
  {
   "cell_type": "code",
   "execution_count": 16,
   "metadata": {},
   "outputs": [],
   "source": [
    "import os\n",
    "from pinecone import Pinecone, ServerlessSpec\n",
    "\n",
    "pc = Pinecone(api_key=PINECONE_API_KEY)\n",
    "\n",
    "index_name = 'llama-chatbot'\n",
    "index = pc.Index(index_name)"
   ]
  },
  {
   "cell_type": "code",
   "execution_count": 17,
   "metadata": {},
   "outputs": [
    {
     "data": {
      "text/plain": [
       "<pinecone.data.index.Index at 0x16e656f28c0>"
      ]
     },
     "execution_count": 17,
     "metadata": {},
     "output_type": "execute_result"
    }
   ],
   "source": [
    "index"
   ]
  },
  {
   "cell_type": "code",
   "execution_count": null,
   "metadata": {},
   "outputs": [],
   "source": [
    "upsert_data = [(str(i), embedding_model.embed_query(text_chunks[i].page_content),{\"text\": text_chunks[i].page_content}) for i in range(len(text_chunks))]\n",
    "\n"
   ]
  },
  {
   "cell_type": "code",
   "execution_count": 83,
   "metadata": {},
   "outputs": [
    {
     "name": "stdout",
     "output_type": "stream",
     "text": [
      "('50', [0.03542203828692436, 0.040648289024829865, -0.043802086263895035, -0.009207949973642826, -0.004721476696431637, 0.054261982440948486, -0.005626289173960686, 0.07076804339885712, -0.011029995046555996, 0.04050498455762863, -0.0027835220098495483, 0.033860523253679276, 0.04517918825149536, -0.04999975115060806, -0.04413965716958046, -0.03926658257842064, 0.04494636505842209, 0.03869068622589111, -0.07037244737148285, -0.015249388292431831, 0.012086814269423485, -0.03178563341498375, 0.034802984446287155, -0.027212204411625862, -0.009783915244042873, -0.04238882660865784, -0.026876037940382957, -0.0675315111875534, 0.006882001645863056, -0.00985070038586855, 0.1248229369521141, 0.04491973668336868, 0.0009683624957688153, -0.03160779923200607, -0.003243088722229004, 0.03650408983230591, 0.02696242555975914, -0.036800406873226166, 0.05677996948361397, -0.03171490505337715, 0.011570662260055542, -0.03784432262182236, -0.00485506746917963, 0.00879188347607851, -0.02644726075232029, -0.023644093424081802, -0.005358314607292414, 0.012721593491733074, -0.041744112968444824, 0.03773215785622597, -0.007805944886058569, 0.03030291758477688, -0.025655699893832207, 0.010219257324934006, -0.0031694311182945967, -0.032547660171985626, -0.012564855627715588, -0.02840019389986992, 0.024700172245502472, 0.017770538106560707, -0.021585123613476753, -0.01179618388414383, 0.0019637392833828926, 0.001464909058995545, 0.04591900110244751, -0.06877971440553665, -0.04286898672580719, 0.04206031560897827, -0.021091356873512268, 0.03903215378522873, 0.038772910833358765, 0.04190495237708092, -0.028491588309407234, 0.0641779974102974, -0.00738705787807703, -0.013950389809906483, 0.015824584290385246, -0.03514717146754265, 0.0478527806699276, 0.07642623037099838, -0.0413692444562912, 0.0438474640250206, -0.0019760867580771446, -0.01157739944756031, -0.04092925041913986, 0.08298573642969131, 0.02849321812391281, -0.05031315237283707, -0.004242308903485537, -0.0429050475358963, 0.08807608485221863, 0.06149794161319733, -0.0388498492538929, -0.06679275631904602, 0.06530524045228958, -0.007605565711855888, -0.060023367404937744, -0.07296453416347504, 0.053002651780843735, 0.03458942472934723, 0.03893154114484787, 0.0219673253595829, -0.029684294015169144, 0.010716643184423447, 0.020269829779863358, 0.012051098980009556, 0.01195408497005701, -0.025694867596030235, -0.04673730581998825, -0.01681060716509819, -0.01180661004036665, -0.06275113672018051, -0.026065105572342873, -0.01326043251901865, -0.005267205182462931, -0.042830899357795715, -0.03479445353150368, -0.02243405021727085, 0.010159255005419254, 0.0350789912045002, -0.003076548222452402, 0.08477547019720078, -0.05217163264751434, 0.03581211715936661, 0.021764304488897324, 0.015969445928931236, 0.0009926519123837352, -0.01706058531999588, -0.0384514145553112, -0.026425879448652267, 0.03957916423678398, -0.015623088926076889, 0.01360052078962326, 0.006214543245732784, 0.0026908637955784798, -0.019497744739055634, 0.09193437546491623, -0.002459452487528324, 0.04281257465481758, -0.0019493608269840479, -0.025010190904140472, -0.039594460278749466, 0.032397132366895676, 0.025333859026432037, -0.01457975059747696, -0.09839564561843872, 0.019294120371341705, 0.006191496271640062, 0.10198862850666046, 0.0047136940993368626, 0.0018726199632510543, -0.019125565886497498, 0.02852511592209339, 0.0072674863040447235, -0.04322792589664459, -0.04597311466932297, 0.047808606177568436, -0.028577763587236404, 0.027712702751159668, -0.01739601045846939, 0.09769183397293091, -0.0561557300388813, -0.003769105300307274, 0.03043021261692047, -0.006382361054420471, -0.01758997142314911, -0.02932542748749256, -0.031411394476890564, 0.00015338664525188506, -0.006600939203053713, -0.045972734689712524, -0.044873885810375214, -0.04290775954723358, -0.029242856428027153, 0.010347490198910236, 0.037783004343509674, -0.016197549179196358, -0.02729053795337677, 0.03483332321047783, -0.014027735218405724, 0.09402913600206375, -0.03310608118772507, 0.005161021836102009, -0.016074158251285553, -0.02325289323925972, -0.012383382767438889, 0.06411712616682053, 0.04080288112163544, -0.02091893181204796, -0.02643992193043232, -0.016797112300992012, -0.0157177671790123, 0.003595988731831312, -0.01781218685209751, 0.01614394783973694, 0.028594493865966797, -0.017424877732992172, -0.044159483164548874, -0.027831625193357468, -0.05719803646206856, -0.002382504055276513, 0.02632433921098709, -0.0006109918467700481, 0.016149373725056648, -0.0533241368830204, 0.02032100036740303, -0.03837909176945686, 0.00024833864881657064, -0.026096845045685768, 0.00812425184994936, -0.040994320064783096, -0.009804201312363148, -0.07846155762672424, -0.021671341732144356, 0.001756552723236382, 0.017504455521702766, 0.04655701294541359, 0.026371218264102936, -0.004506142809987068, -0.027326617389917374, -0.0014766257954761386, 0.00797082856297493, 0.012965058907866478, 0.02130792662501335, -0.0026629026979207993, 0.01071839313954115, -0.06372318416833878, 0.017464688047766685, 0.03886263817548752, -0.04076658934354782, -0.04390570521354675, 0.010746494866907597, 0.009704220108687878, 0.01062359195202589, -0.021228499710559845, 0.01990140601992607, 0.03993235155940056, -0.01417519524693489, -0.033674128353595734, -0.022027637809515, 0.012541767209768295, -0.02291787788271904, 0.03373415023088455, -0.013789010234177113, 0.013871362432837486, 0.002778940601274371, 0.04429246857762337, 0.0050703538581728935, 0.010555790737271309, -0.022060945630073547, -0.0019266281742602587, -0.005101175978779793, -0.02171305939555168, 0.01389763131737709, -0.0549003928899765, -0.029384996742010117, 0.03430229797959328, -0.03615456447005272, -0.014962062239646912, 0.022759949788451195, 0.01235196553170681, -0.099544458091259, 0.006642597261816263, 0.007345363963395357, -0.048793405294418335, -0.07249628752470016, -0.026597043499350548, -0.00048209523083642125, 0.06844808906316757, -0.009922965429723263, -0.008557779714465141, -0.029215719550848007, -0.04017234221100807, -0.018167655915021896, -0.04464523866772652, 0.015268005430698395, 0.05138799920678139, 0.009937897324562073, -0.040360912680625916, -0.02574935182929039, 0.01460855733603239, -0.005871340166777372, -0.0013724886812269688, -0.07516978681087494, 0.02263028919696808, -0.08105377107858658, -0.010377923958003521, 0.0033958808053284883, 0.0011357073672115803, -0.0058561088517308235, 0.03727806732058525, 0.01894613355398178, -0.03929227218031883, -0.03779873996973038, 0.028057603165507317, 0.023939942941069603, -0.031190186738967896, 0.03141850605607033, -0.02823561057448387, 0.013781487010419369, -0.0027488633058965206, 0.02848971076309681, -0.03755047917366028, 0.03984420746564865, -0.01681428588926792, -0.001089652068912983, -0.03512326255440712, -0.010910536162555218, -0.028864935040473938, 0.03971928358078003, 0.01857353001832962, 0.041474848985672, -0.004811711609363556, -0.052000515162944794, -0.02386169694364071, 0.0049718511290848255, -0.11803338676691055, -0.012077881023287773, 0.0062681278213858604, 0.0705658495426178, 0.010412364266812801, -0.029571501538157463, -0.001882326090708375, 0.11480916291475296, 0.03297843039035797, -0.0008202526951208711, -0.01873687282204628, -0.014232231304049492, 0.039097175002098083, 0.04230765253305435, 0.021775906905531883, -0.02514505572617054, 0.06274650990962982, -0.05195797607302666, 0.02164345420897007, -0.02584715560078621, -0.03717900812625885, 0.01580614410340786, 0.040794290602207184, 0.03133871778845787, 0.042484357953071594, -0.05031491070985794, -0.004678450990468264, 0.06264324486255646, -0.0045546735636889935, -0.0012560115428641438, -0.04892241582274437, -0.036395829170942307, 0.03260490670800209, 0.045477233827114105, 0.016298741102218628, 0.07340487837791443, 0.025484926998615265, -0.09223121404647827, -0.019813109189271927, 0.05909503996372223, -0.015401220880448818, 0.008853459730744362, 0.04398038610816002, 0.008866865187883377, -0.025275301188230515, 0.037518177181482315, -0.0016720258863642812, 0.03534625470638275, -0.005105093587189913, 0.01686384715139866, 0.028954271227121353, -0.005953288171440363, -0.050014153122901917, -0.03495587036013603, 0.02444622293114662, 0.06029895320534706, -0.017016930505633354, -0.0480537973344326, 0.026607749983668327, 0.003424703609198332, -0.0360434353351593, -0.05430479720234871, -0.04413454979658127, -0.006669263355433941, 0.009053274057805538, -0.02623584493994713, 0.009879102930426598, 0.02886815369129181, 0.024918217211961746, 0.08434701710939407, -0.05031879246234894, -0.013764421455562115, -0.04175648093223572, -0.047460250556468964, -0.013874785043299198, 0.050455156713724136, 0.05195704102516174, -0.02138633280992508, -0.021024610847234726, 0.05550254508852959, 0.031448133289813995, 0.027091456577181816, 0.026479966938495636, -0.015482005663216114, -0.08291224390268326, -0.01901787891983986, 0.03633687272667885, 0.0014727478846907616, 0.03460806980729103, -0.06946101784706116, 0.035820282995700836, 0.04793407395482063, -0.020588696002960205, -0.031843267381191254, -0.03432273119688034, -0.034889254719018936, 0.019056184217333794, -0.0036966700572520494, -0.007974586449563503, -0.033391356468200684, 0.03581984341144562, 0.020340479910373688, 0.08341141045093536, 0.034143511205911636, -0.047171059995889664, 0.026120109483599663, 0.0365397073328495, 0.033454496413469315, -0.021878017112612724, -0.05963985249400139, -0.034367796033620834, 0.007646075449883938, 0.021886594593524933, -0.009199058637022972, -0.02973155863583088, -0.0357646569609642, 0.005345071200281382, 0.019237590953707695, 0.022975288331508636, 0.05061101168394089, 0.03578607365489006, -0.03854867443442345, -0.007511683739721775, 0.016651209443807602, -0.020154418423771858, 0.012927145697176456, 0.08269133418798447, 0.025771841406822205, -0.01099963579326868, 0.05155276134610176, -0.004660941660404205, 0.04657910019159317, 0.021375957876443863, 0.026074044406414032, -0.027560265734791756, -0.02323794923722744, -0.0625859871506691, -0.05679317191243172, -0.02205682173371315, -0.005214238073676825, 0.007785750553011894, 0.06683601438999176, -0.04423793405294418, 0.019339263439178467, -0.011135279200971127, -0.07416263222694397, 0.035537078976631165, 0.028382757678627968, 0.0028773159720003605, -0.009942042641341686, -0.012451627291738987, -0.019750423729419708, 0.0012523772893473506, 0.040194857865571976, 0.07395762205123901, 0.023218147456645966, 0.0509951151907444, -0.02672189474105835, -0.08465087413787842, 0.0012424596352502704, 0.018005147576332092, 0.009623798541724682, 0.060277294367551804, 0.004948161076754332, -0.03285631537437439, 0.0038827296812087297, -0.048678722232580185, -0.025665992870926857, 0.04191916063427925, 0.0013140264200046659, -0.024878567084670067, 0.013839146122336388, 0.002083747647702694, 0.009577916003763676, 0.03948480635881424, 0.05652901157736778, 0.00668360898271203, 0.01588577777147293, -0.0023329316172748804, -0.01838485337793827, 0.07870321720838547, -0.009885899722576141, -0.021585999056696892, 0.07475243508815765, 0.07801727205514908, -0.008579305373132229, -0.0220273956656456, -0.06887133419513702, -0.07399730384349823, 0.01804572530090809, -0.04704079404473305, -0.039216119796037674, 0.06795521825551987, 0.001626277226023376, 0.09202365577220917, 0.030352143570780754, -0.012985801324248314, 0.024457048624753952, -0.04027257487177849, -0.05465530604124069, -0.0287003330886364, -0.01402168907225132, -0.03721337765455246, 0.06376631557941437, -0.024236783385276794, -0.019441384822130203, 0.01908370852470398, -0.03643856197595596, 0.014531927183270454, 0.016185404732823372, 0.06954257190227509, 0.006341562606394291, 0.023751478642225266, -0.004386134445667267, 0.004598756320774555, 0.032699063420295715, 0.015702370554208755, 0.038004666566848755, -0.005133465398102999, 0.043558865785598755, 0.07653427869081497, 0.05889427289366722, 0.0035672588273882866, -0.028947951272130013, 0.014110331423580647, 0.015539854764938354, 0.024169497191905975, 0.04689162224531174, 0.028921829536557198, 0.06022616848349571, -0.026072122156620026, 0.052120182663202286, -0.05253591015934944, 0.045568645000457764, 0.041059091687202454, -0.014808382838964462, -0.003378849243745208, -0.03762819245457649, 0.005896958988159895, -0.004635641351342201, 0.08068189024925232, -0.04949670284986496, 0.017774175852537155, -0.06915902346372604, 0.02879219315946102, -0.03203189745545387, 0.040519967675209045, 0.007870551198720932, 0.0019811142701655626, -0.04686430096626282, -0.02545119635760784, 0.04435424506664276, -0.01649884507060051, 0.03700597211718559, 0.04707971587777138, -0.02590368501842022, 0.03827269747853279, 0.0015155632281675935, 0.030942054465413094, -0.012330500409007072, -0.04816189408302307, -0.005492202006280422, -0.00453762523829937, -0.04666367918252945, -0.0005323705263435841, 0.0050606452859938145, 0.021794918924570084, -0.012855482287704945, -0.013759775087237358, 0.01163138821721077, 0.0030146732460707426, -0.00133908458519727, -0.027049101889133453, -0.03346790000796318, -0.009985541924834251, -0.009649021551012993, 0.05448394641280174, 0.005055809393525124, -0.01691274344921112, -0.032771382480859756, -0.015460101887583733, 0.0027647933457046747, 0.05692247301340103, 0.0018874714151024818, -0.02529747597873211, 0.00047428434481844306, 0.03207848593592644, -0.02340102382004261, -0.013899330981075764, -0.020982060581445694, -0.02308017387986183, -0.030340608209371567, -0.011599905788898468, -0.026364725083112717, -0.00021142356854397804, 0.056373998522758484, -0.06765885651111603, -0.03410569578409195, -0.07725122570991516, 0.011282442137598991, -0.013817421160638332, -0.03968656808137894, 0.03238190338015556, 0.02330004796385765, 0.011231344193220139, 0.001775620155967772, -0.015252096578478813, -0.019671296700835228, -0.0564916729927063, 0.03900553658604622, 0.03386278450489044, -0.026969362050294876, 0.05828171595931053, 0.001526752021163702, 0.03827403113245964, -0.004834988620132208, 0.041850265115499496, -0.0106262918561697, -0.05126872658729553, 0.0269613154232502, -0.037402696907520294, -0.015504658222198486, -0.00803369376808405, 0.012052041478455067, 0.044914454221725464, 0.007823273539543152, 0.07181773334741592, 0.021932121366262436, -0.03983331099152565, 0.01748695597052574, -0.01617012545466423, 0.011380892246961594, 0.02927304059267044, -0.016420163214206696, -0.0334811806678772, 0.006012778729200363, -0.057156916707754135, -0.0034947157837450504, -0.01604112796485424, -0.05709395930171013, -0.061510421335697174, -0.02593361958861351, 0.022574350237846375, -0.022581137716770172, 0.020867900922894478, 0.03748347982764244, 0.00823931209743023, 0.019779393449425697, 0.00398910790681839, 0.012558165937662125, -0.04032878205180168, 0.040005456656217575, -0.006967576686292887, -0.057855021208524704, 0.03234485909342766, -0.026564553380012512, -0.017673805356025696, -0.00508906040340662, 0.006566810421645641, -0.011976649053394794, 0.05742492526769638, 0.002227851888164878, -0.036702897399663925, 0.04600508511066437, -0.02713342197239399, -0.024893417954444885, -0.029930010437965393, -0.029238639399409294, -0.01593809574842453, 0.012145161628723145, 0.021223118528723717, -0.06166846305131912, -0.058534786105155945, 0.006948430091142654, -0.026732800528407097, -0.03975265845656395, -0.07133306562900543, 0.041238073259592056, -0.007997305132448673, 0.07669459283351898, -0.03829556703567505, 0.009178884327411652, 0.022329209372401237, 0.02970096282660961, 0.03926379606127739, -0.03211893513798714, -0.07817170023918152, 0.03521651774644852, 0.042136821895837784, 0.036073315888643265, 0.01791502721607685, 0.020035583525896072, -0.02690661884844303, 0.006382417399436235, -0.03632247447967529, -0.031412746757268906, 0.04180023819208145, 0.012142598628997803, -0.012879754416644573, 0.028027331456542015, 0.04120965674519539, 0.035723865032196045, 0.036346036940813065, 0.014733906835317612, 0.04440386965870857, -0.02212166041135788, 0.043628204613924026, 0.02005520835518837, 0.009600365534424782, 0.014065583236515522, -0.061493415385484695, -0.05395238846540451, -0.028131283819675446, -0.0030661311466246843, 0.022417781874537468, -0.02444826439023018, -0.063564233481884, 0.004890881013125181, 0.0005320982891134918, 0.04356495290994644, -0.038701556622982025, -0.03160493075847626, -0.006176680326461792, -0.0263048205524683, 0.04943592846393585, -0.022806333377957344, 0.012201988138258457, -0.006192026659846306, 0.024228189140558243, -0.01597721315920353, 0.0002898030506912619, -0.0016115708276629448, -0.03923838958144188, 0.021233780309557915, -0.011260094121098518, -0.01010075956583023, -0.03245249763131142, -0.016574842855334282, 0.039526939392089844, -0.004609478637576103, 0.012626679614186287, -0.0017352980794385076, 0.03177518770098686, 0.0496005043387413, -0.007458937354385853, 0.06687724590301514, 0.01113883126527071, -0.007921279408037663, 0.014404402114450932, 0.007267163600772619, 0.022225385531783104, -0.012066385708749294], {'text': 'Massachusetts General Hospital\\nBoston, MA\\nKim A. Sharp, M.Ln.\\nWriter\\nRichmond, TX\\nJudith Sims, M.S.\\nMedical Writer\\nLogan, UT\\nJoyce S. Siok, R.N.\\nMedical Writer\\nSouth Windsor, CT\\nJ. Ricker Polsdorfer, M.D.\\nMedical Writer\\nPhoenix, AZ\\nScott Polzin, M.S., C.G.C.\\nMedical Writer\\nBuffalo Grove, IL\\nElizabeth J. Pulcini, M.S.\\nMedical Writer\\nPhoenix, Arizona\\nNada Quercia, M.S., C.C.G.C.\\nGenetic Counselor\\nDivision of Clinical and Metabolic\\nGenetics\\nThe Hospital for Sick Children\\nToronto, ON, Canada'})\n"
     ]
    }
   ],
   "source": [
    "print(upsert_data[50])"
   ]
  },
  {
   "cell_type": "code",
   "execution_count": 84,
   "metadata": {},
   "outputs": [],
   "source": [
    "namespace = \"medical-chat\"\n",
    "batch_size = 100  # or any number that suits your data size\n",
    "for i in range(0, len(upsert_data), batch_size):\n",
    "    batch = upsert_data[i:i + batch_size]\n",
    "    index.upsert(vectors=batch,namespace=namespace)\n"
   ]
  },
  {
   "cell_type": "code",
   "execution_count": 85,
   "metadata": {},
   "outputs": [],
   "source": [
    "query = \"What are allergies?\"\n",
    "query_embedding = get_gemini_embedding(query)  # encoding query text into vector"
   ]
  },
  {
   "cell_type": "code",
   "execution_count": 86,
   "metadata": {},
   "outputs": [
    {
     "data": {
      "text/plain": [
       "768"
      ]
     },
     "execution_count": 86,
     "metadata": {},
     "output_type": "execute_result"
    }
   ],
   "source": [
    "len(query_embedding)"
   ]
  },
  {
   "cell_type": "code",
   "execution_count": 87,
   "metadata": {},
   "outputs": [],
   "source": [
    "\n",
    "# Perform similarity search\n",
    "results = index.query(\n",
    "    vector=query_embedding,  # Query vector\n",
    "    top_k=3,  # Retrieve top 3 most similar documents\n",
    "    include_metadata=True,  # Include metadata if available,\n",
    "    namespace=namespace\n",
    ")\n",
    "\n",
    "\n"
   ]
  },
  {
   "cell_type": "code",
   "execution_count": 88,
   "metadata": {},
   "outputs": [
    {
     "data": {
      "text/plain": [
       "{'matches': [{'id': '3540',\n",
       "              'metadata': {'text': 'portal vein that run through liver (portal '\n",
       "                                   'hypertension).\\n'\n",
       "                                   'Portal hypertension is caused by the '\n",
       "                                   'scarring that\\n'\n",
       "                                   'occurs in cirrhosis. Blood that cannot '\n",
       "                                   'flow through the\\n'\n",
       "                                   'liver because of the increased pressure '\n",
       "                                   'leaks into the\\n'\n",
       "                                   'abdomen and causes ascites.\\n'\n",
       "                                   'Other conditions that contribute to '\n",
       "                                   'ascites develop-\\n'\n",
       "                                   'ment include:\\n'\n",
       "                                   '• hepatitis\\n'\n",
       "                                   '• heart or kidney failure\\n'\n",
       "                                   '• inflammation and fibrous hardening of '\n",
       "                                   'the sac that con-\\n'\n",
       "                                   'tains the heart (constrictive '\n",
       "                                   'pericarditis)'},\n",
       "              'score': 0.103967458,\n",
       "              'values': []},\n",
       "             {'id': '3562',\n",
       "              'metadata': {'text': 'Normal results\\n'\n",
       "                                   'Normal ranges for the AST are '\n",
       "                                   'laboratory-specific,\\n'\n",
       "                                   'but can range from 3-45 units/L (units per '\n",
       "                                   'liter).\\n'\n",
       "                                   'Abnormal results\\n'\n",
       "                                   'Striking elevations of AST (400-4000 '\n",
       "                                   'units/L) are\\n'\n",
       "                                   'found in almost all forms of acute hepatic '\n",
       "                                   'necrosis, such\\n'\n",
       "                                   'as viral hepatitis and carbon '\n",
       "                                   'tetrachloride poisoning. In\\n'\n",
       "                                   'alcoholics, even moderate doses of the '\n",
       "                                   'analgesic aceta-\\n'\n",
       "                                   'minophen have caused extreme elevations '\n",
       "                                   '(1,960-29,700\\n'\n",
       "                                   'units/L). Moderate rises of AST are seen '\n",
       "                                   'in jaundice ,'},\n",
       "              'score': 0.0886788666,\n",
       "              'values': []},\n",
       "             {'id': '3257',\n",
       "              'metadata': {'text': 'the inflammation and symptoms of '\n",
       "                                   'appendicitis may dis-\\n'\n",
       "                                   'appear but recur again later.\\n'\n",
       "                                   'The distinguishing symptom of appendicitis '\n",
       "                                   'is pain\\n'\n",
       "                                   'beginning around or above the navel. The '\n",
       "                                   'pain, which\\n'\n",
       "                                   'may be severe or only achy and '\n",
       "                                   'uncomfortable, eventual-\\n'\n",
       "                                   'ly moves into the right lower corner of '\n",
       "                                   'the abdomen.\\n'\n",
       "                                   'There, it becomes more steady and more '\n",
       "                                   'severe, and\\n'\n",
       "                                   'often increases with movement, coughing, '\n",
       "                                   'and so forth.\\n'\n",
       "                                   'The abdomen often becomes rigid and tender '\n",
       "                                   'to the'},\n",
       "              'score': 0.0845260918,\n",
       "              'values': []}],\n",
       " 'namespace': 'medical-chat',\n",
       " 'usage': {'read_units': 6}}"
      ]
     },
     "execution_count": 88,
     "metadata": {},
     "output_type": "execute_result"
    }
   ],
   "source": [
    "results"
   ]
  },
  {
   "cell_type": "code",
   "execution_count": null,
   "metadata": {},
   "outputs": [],
   "source": [
    "# # for Pinecone.from_existing_index method only \n",
    "# from langchain.vectorstores import Pinecone  "
   ]
  },
  {
   "cell_type": "code",
   "execution_count": null,
   "metadata": {},
   "outputs": [],
   "source": [
    "# older (from langchain.vectorstores)\n",
    "\n",
    "# vectorstore = Pinecone.from_existing_index(\n",
    "#     index_name=index_name,  # Pinecone index name\n",
    "#     embedding=get_gemini_embedding,  # Embedding function for queries\n",
    "#     namespace=\"medical-chat\"  # Correct namespace\n",
    "# )\n",
    "\n",
    "# # Now get a retriever\n",
    "# retriever = vectorstore.as_retriever(search_kwargs={\"k\": 3})\n",
    "\n"
   ]
  },
  {
   "cell_type": "code",
   "execution_count": 89,
   "metadata": {},
   "outputs": [],
   "source": [
    "# newer (from pinecone python SDK)\n",
    "def retrieve_documents(query, top_k=3):\n",
    "    query_embedding = get_gemini_embedding(query)\n",
    "    results = index.query(vector=query_embedding, top_k=top_k, include_metadata=True, namespace=\"medical-chat\")\n",
    "    return [match['metadata']['text'] for match in results['matches']]\n"
   ]
  },
  {
   "cell_type": "code",
   "execution_count": 18,
   "metadata": {},
   "outputs": [],
   "source": [
    "prompt_template = \"\"\" \n",
    "\n",
    "If you don't know the answer, interact according to your intelligence.\n",
    "\n",
    "Context:{context}\n",
    "Question: {question}\n",
    "\n",
    "Return the helpful answer below and nothing else.\n",
    "Helpful answer: \n",
    "\n",
    "\"\"\""
   ]
  },
  {
   "cell_type": "code",
   "execution_count": 19,
   "metadata": {},
   "outputs": [],
   "source": [
    "prompt = PromptTemplate(template=prompt_template,input_variables=['context','question'])\n",
    "chain_type_kwargs = {\"prompt\":prompt}"
   ]
  },
  {
   "cell_type": "code",
   "execution_count": 20,
   "metadata": {},
   "outputs": [],
   "source": [
    "# llm = CTransformers(model=\"model/llama-2-7b-chat.ggmlv3.q4_0.bin\",\n",
    "#                     model_type=\"llama\",\n",
    "#                     config={'max_new_tokens':512,\n",
    "#                             'temperature':0.8})\n",
    "\n",
    "\n",
    "\n",
    "from langchain_google_genai import ChatGoogleGenerativeAI\n",
    "llm = ChatGoogleGenerativeAI(model=\"gemini-1.5-flash\", temperature = 0.8, max_tokens=512)"
   ]
  },
  {
   "cell_type": "code",
   "execution_count": 93,
   "metadata": {},
   "outputs": [],
   "source": [
    "# older (from langchain.vectores module)\n",
    "\n",
    "# qa_chain = RetrievalQA.from_chain_type(\n",
    "#     llm=llm,\n",
    "#     retriever=retriever,\n",
    "#     chain_type=\"stuff\",\n",
    "#     chain_type_kwargs={\"prompt\": prompt},\n",
    "# )"
   ]
  },
  {
   "cell_type": "code",
   "execution_count": 94,
   "metadata": {},
   "outputs": [],
   "source": [
    "def ask_question(question):\n",
    "    context_docs = retrieve_documents(question)\n",
    "    context = \"\\n\".join(context_docs)\n",
    "    final_prompt = prompt.format(context=context, question=question)\n",
    "    return llm.invoke(final_prompt).content\n"
   ]
  },
  {
   "cell_type": "code",
   "execution_count": 95,
   "metadata": {},
   "outputs": [],
   "source": [
    "# older (from langchain.vectores Pinecone method )\n",
    "\n",
    "# question = \"what are allergies \"\n",
    "# answer = qa_chain.run(question)\n",
    "# print(f\"Answer: {answer}\")"
   ]
  },
  {
   "cell_type": "code",
   "execution_count": 96,
   "metadata": {},
   "outputs": [
    {
     "name": "stdout",
     "output_type": "stream",
     "text": [
      "Answer: This document does not contain information about antiviral drugs.  Therefore, I cannot answer your question.\n"
     ]
    }
   ],
   "source": [
    "question = \"Tell me about Antiviral drugs\"\n",
    "answer = ask_question(question)\n",
    "print(f\"Answer: {answer}\")\n"
   ]
  },
  {
   "cell_type": "markdown",
   "metadata": {},
   "source": [
    "### with the help of langchain PineconeVectorStore "
   ]
  },
  {
   "cell_type": "code",
   "execution_count": 21,
   "metadata": {},
   "outputs": [],
   "source": [
    "from langchain_pinecone import PineconeVectorStore"
   ]
  },
  {
   "cell_type": "code",
   "execution_count": 100,
   "metadata": {},
   "outputs": [],
   "source": [
    "docs = [\n",
    "    {\"id\": str(i), \"metadata\": {\"text\": text_chunks[i].page_content}, \"values\": embedding_model.embed_query(text_chunks[i].page_content)}\n",
    "    for i in range(len(text_chunks))\n",
    "]"
   ]
  },
  {
   "cell_type": "code",
   "execution_count": 22,
   "metadata": {},
   "outputs": [],
   "source": [
    "new_namespace=\"new-test\""
   ]
  },
  {
   "cell_type": "code",
   "execution_count": 26,
   "metadata": {},
   "outputs": [],
   "source": [
    "vectorstore = PineconeVectorStore(\n",
    "    index_name=index_name,\n",
    "    pinecone_api_key=PINECONE_API_KEY,\n",
    "    embedding=embedding_model,\n",
    "    namespace=new_namespace\n",
    ")"
   ]
  },
  {
   "cell_type": "code",
   "execution_count": null,
   "metadata": {},
   "outputs": [],
   "source": [
    "vectorstore.add_texts(\n",
    "    texts=[doc[\"metadata\"][\"text\"] for doc in docs],\n",
    "    metadatas=[{\"id\": doc[\"id\"]} for doc in docs]\n",
    ")"
   ]
  },
  {
   "cell_type": "code",
   "execution_count": 27,
   "metadata": {},
   "outputs": [],
   "source": [
    "retriever_new = vectorstore.as_retriever(search_kwargs={\"k\": 3})\n"
   ]
  },
  {
   "cell_type": "code",
   "execution_count": 28,
   "metadata": {},
   "outputs": [],
   "source": [
    "# Cell 10: Define the prompt template\n",
    "from langchain.prompts import PromptTemplate\n",
    "\n",
    "prompt_template = \"\"\" \n",
    "If you don't know the answer, interact according to your intelligence.\n",
    "\n",
    "Context: {context}\n",
    "Question: {question}\n",
    "\n",
    "Return the helpful answer below and nothing else.\n",
    "Helpful answer: \n",
    "\"\"\"\n",
    "\n",
    "prompt = PromptTemplate(template=prompt_template, input_variables=['context', 'question'])\n",
    "chain_type_kwargs = {\"prompt\": prompt}\n"
   ]
  },
  {
   "cell_type": "code",
   "execution_count": 29,
   "metadata": {},
   "outputs": [],
   "source": [
    "# Cell 11: Initialize LLM model\n",
    "from langchain_google_genai import ChatGoogleGenerativeAI\n",
    "\n",
    "llm = ChatGoogleGenerativeAI(model=\"gemini-1.5-flash\", temperature=0.8, max_tokens=512)\n"
   ]
  },
  {
   "cell_type": "code",
   "execution_count": 30,
   "metadata": {},
   "outputs": [],
   "source": [
    "# Cell 12: Create RetrievalQA chain\n",
    "qa_chain_new = RetrievalQA.from_chain_type(\n",
    "    llm=llm,\n",
    "    retriever=retriever_new,\n",
    "    chain_type=\"stuff\",\n",
    "    chain_type_kwargs={\"prompt\": prompt},\n",
    ")\n"
   ]
  },
  {
   "cell_type": "code",
   "execution_count": 31,
   "metadata": {},
   "outputs": [
    {
     "name": "stdout",
     "output_type": "stream",
     "text": [
      "Answer: Allergies are immune reactions triggered by harmless, everyday substances (allergens) such as pollen, dust, and animal dander.  The body's immune system responds as if these substances are harmful, causing a series of reactions that can lead to various symptoms.\n"
     ]
    }
   ],
   "source": [
    "# Cell 13: Run a sample query\n",
    "question = \"what are allergies\"\n",
    "answer = qa_chain_new.run(question)\n",
    "print(f\"Answer: {answer}\")\n"
   ]
  },
  {
   "cell_type": "code",
   "execution_count": 32,
   "metadata": {},
   "outputs": [],
   "source": [
    "results = vectorstore.similarity_search(\"What are allergies\", k=3)\n"
   ]
  },
  {
   "cell_type": "code",
   "execution_count": 33,
   "metadata": {},
   "outputs": [
    {
     "data": {
      "text/plain": [
       "['Description\\nAllergies are among the most common of medical\\ndisorders. It is estimated that 60 million Americans, or\\nmore than one in every five people, suffer from some\\nform of allergy, with similar proportions throughout\\nmuch of the rest of the world. Allergy is the single largest\\nreason for school absence and is a major source of lost\\nproductivity in the workplace.\\nAn allergy is a type of immune reaction. Normally,\\nthe immune system responds to foreign microorganisms',\n",
       " 'ganisms, or particles, like pollen or dust, by producing\\nspecific proteins, called antibodies, that are capable of\\nbinding to identifying molecules, or antigens, on the for-\\neign particle. This reaction between antibody and antigen\\nsets off a series of reactions designed to protect the body\\nfrom infection. Sometimes, this same series of reactions\\nis triggered by harmless, everyday substances. This is the\\ncondition known as allergy, and the offending substance\\nis called an allergen.',\n",
       " 'or particles by producing specific proteins called anti-\\nbodies. These antibodies are capable of binding to iden-\\ntifying molecules, or antigens, on the foreign particle.\\nThis reaction between antibody and antigen sets off a\\nseries of chemical reactions designed to protect the\\nbody from infection. Sometimes, this same series of\\nreactions is triggered by harmless, everyday substances\\nsuch as pollen, dust, and animal danders. When this\\noccurs, an allergy develops against the offending sub-']"
      ]
     },
     "execution_count": 33,
     "metadata": {},
     "output_type": "execute_result"
    }
   ],
   "source": [
    "documents = [doc.page_content for doc in results]\n",
    "documents"
   ]
  },
  {
   "cell_type": "code",
   "execution_count": null,
   "metadata": {},
   "outputs": [],
   "source": []
  }
 ],
 "metadata": {
  "kernelspec": {
   "display_name": "openaidemo",
   "language": "python",
   "name": "python3"
  },
  "language_info": {
   "codemirror_mode": {
    "name": "ipython",
    "version": 3
   },
   "file_extension": ".py",
   "mimetype": "text/x-python",
   "name": "python",
   "nbconvert_exporter": "python",
   "pygments_lexer": "ipython3",
   "version": "3.10.16"
  }
 },
 "nbformat": 4,
 "nbformat_minor": 2
}
