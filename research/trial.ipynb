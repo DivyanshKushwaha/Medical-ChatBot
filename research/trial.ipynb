{
 "cells": [
  {
   "cell_type": "code",
   "execution_count": 4,
   "metadata": {},
   "outputs": [],
   "source": [
    "import os "
   ]
  },
  {
   "cell_type": "code",
   "execution_count": 5,
   "metadata": {},
   "outputs": [
    {
     "data": {
      "text/plain": [
       "'d:\\\\Tutorial\\\\GenAI\\\\Projects\\\\Medical-Chatbot\\\\research'"
      ]
     },
     "execution_count": 5,
     "metadata": {},
     "output_type": "execute_result"
    }
   ],
   "source": [
    "%pwd"
   ]
  },
  {
   "cell_type": "code",
   "execution_count": 6,
   "metadata": {},
   "outputs": [],
   "source": [
    "os.chdir('../')"
   ]
  },
  {
   "cell_type": "code",
   "execution_count": 7,
   "metadata": {},
   "outputs": [
    {
     "data": {
      "text/plain": [
       "'d:\\\\Tutorial\\\\GenAI\\\\Projects\\\\Medical-Chatbot'"
      ]
     },
     "execution_count": 7,
     "metadata": {},
     "output_type": "execute_result"
    }
   ],
   "source": [
    "%pwd "
   ]
  },
  {
   "cell_type": "code",
   "execution_count": null,
   "metadata": {},
   "outputs": [],
   "source": [
    "from langchain.document_loaders import PyPDFDirectoryLoader\n",
    "from langchain.text_splitter import RecursiveCharacterTextSplitter\n",
    "from langchain_google_genai import GoogleGenerativeAIEmbeddings\n",
    "import pinecone \n",
    "from langchain.chains import RetrievalQA\n",
    "from langchain.prompts import PromptTemplate\n",
    "from langchain.document_loaders import DirectoryLoader,PyPDFDirectoryLoader,PyPDFLoader\n",
    "from langchain.document_loaders import TextLoader\n",
    "import warnings\n",
    "warnings.filterwarnings(\"ignore\")\n",
    "import os"
   ]
  },
  {
   "cell_type": "code",
   "execution_count": 10,
   "metadata": {},
   "outputs": [],
   "source": [
    "def load_pdf(data):\n",
    "    loader = DirectoryLoader(data,\n",
    "                    glob=\"*.pdf\",\n",
    "                    loader_cls=PyPDFLoader)\n",
    "    documents = loader.load()\n",
    "    return documents "
   ]
  },
  {
   "cell_type": "code",
   "execution_count": 11,
   "metadata": {},
   "outputs": [],
   "source": [
    "extracted_data = load_pdf(\"data/\")"
   ]
  },
  {
   "cell_type": "code",
   "execution_count": 12,
   "metadata": {},
   "outputs": [
    {
     "data": {
      "text/plain": [
       "Document(metadata={'source': 'data\\\\medical-book.pdf', 'page': 400, 'page_label': '401'}, page_content='• Movement education and bodywork, including mas-\\nsage, myofacial release, and arthrokinetics, to help\\nrelease tension and make new movement patterns easier.\\n• Post-testing, when pre-testing movements are repeated,\\nallowing the client to feel the changes that have taken\\nplace and integrate them into daily life.\\nAston-Patterning requires more participation from\\nthe client than many bodywork techniques. The massage\\naspect of Aston-Patterning is designed around a three-\\ndimensional, non-compressive touch that releases pat-\\nterns of tension in the body. It is gentler than Rolfing.\\nMyokinetics uses touch to release tension in the face and\\nneck. Arthrokinetics addresses tension at bones and\\njoints. This massage is accompanied by education about\\nhow new movement patterns may be established.\\nIn addition to Aston-Patterning sessions, clients are\\nalso helped to examine their environment for factors, such\\nas seating or sleeping arrangements, that may limit their\\nbody function and introduce tension. Finally, they may\\nchoose to participate in the Aston fitness training program\\nthat includes loosening techniques based on self-massage,\\ntoning, stretching, and cardiovascular fitness.\\nKEY TERMS\\nRolfing—Developed by Dr. Ida Rolf (1896–1979),\\nrolfing is a systematic approach to relieving stress\\npatterns and dysfunctions in the body’s structure\\nthrough the manipulation of the highly pliant myofa-\\ncial (connective) tissue. It assists the body in reorga-\\nnizing its major segments into vertical alignment.\\nPreparations\\nNo special preparation need be taken.\\nPrecautions\\nNo special precautions are necessary when partici-\\npating.\\nSide effects\\nNo undesirable side effects are reported. Usually\\nclients report a diminution of tension, improved body\\nmovement, and an enhanced feeling of well being.\\nResearch and general acceptance\\nAston-Patterning is an outgrowth of Rolfing, which\\nhas been shown to be of benefit in a limited number of\\ncontrolled studies. Little controlled research has been done\\non the either benefits or limitations of Aston-Patterning. Its\\nclaims have been neither proven nor disproved, although\\nanecdotally many clients report relief from pain and ten-\\nsion and also improved body movement.\\nResources\\nORGANIZATIONS\\nThe Aston Training Center. P. O. Box 3568, Incline Village,\\nNV 89450. 775-831-8228. Astonpat@aol.com <http://\\nwww.aston-patterning.com>.\\nTish Davidson\\nAstrocytoma see Brain tumor\\nAtaxia-telangiectasia\\nDefinition\\nAtaxia-telangiectasia (A-T), also called Louis-Bar\\nsyndrome, is a rare, genetic neurological disorder of child-\\nGALE ENCYCLOPEDIA OF MEDICINE 2 387\\nAtaxia-telangiectasia\\nJUDITH ASTON\\nJudith Aston was born in Long Beach, California.\\nShe graduated from University of California at Los Ange-\\nles with a B.A. and a M.F.A. in dance. Her interest in\\nmovement arose from working as a dancer. In 1963\\nAston established her first movement education pro-\\ngram for dancers, actors, and athletes at Long Beach\\nCity College.\\nFive years later, while recovering from injuries sus-\\ntained during two consecutive automobile accidents,\\nAston met Ida Rolf, the developer of Rolfing. Aston\\nbegan working for Rolf, teaching a movement education\\nprogram called Rolf-Aston Structural Patterning that\\nemphasized using the body with minimum effort and\\nmaximum precision.\\nIn time, Rolf and Aston’s views on movement\\ndiverged, and the partnership was dissolved in 1977.\\nAston formed her own company called the Aston Para-\\ndigm Corporation in Lake Tahoe, California. This com-\\npany provides training and certification for Aston practi-\\ntioners. She also began exploring how environmental\\nconditions affect body movement, foreshadowing the\\nergonomic movement in the workplace that developed\\nin the 1990s. Over time, Aston has expanded her move-\\nment work to include a fitness program for older adults.\\nToday, Judith Aston serves as director of Aston Paradigm\\nCorporation.\\nGEM - 0001 to 0432 - A  10/22/03 1:43 PM  Page 387')"
      ]
     },
     "execution_count": 12,
     "metadata": {},
     "output_type": "execute_result"
    }
   ],
   "source": [
    "extracted_data[400]"
   ]
  },
  {
   "cell_type": "markdown",
   "metadata": {},
   "source": [
    "### Create text chunks"
   ]
  },
  {
   "cell_type": "code",
   "execution_count": 20,
   "metadata": {},
   "outputs": [],
   "source": [
    "def text_split(data_extracted):\n",
    "\n",
    "    text_splitter = RecursiveCharacterTextSplitter(chunk_size=500, chunk_overlap=20)\n",
    "    text_chunks = text_splitter.split_documents(data_extracted)\n",
    "    return text_chunks\n"
   ]
  },
  {
   "cell_type": "code",
   "execution_count": 21,
   "metadata": {},
   "outputs": [
    {
     "name": "stdout",
     "output_type": "stream",
     "text": [
      "5860\n"
     ]
    }
   ],
   "source": [
    "text_chunks = text_split(extracted_data)\n",
    "print(len(text_chunks))"
   ]
  },
  {
   "cell_type": "code",
   "execution_count": 22,
   "metadata": {},
   "outputs": [
    {
     "data": {
      "text/plain": [
       "'Acupressure points to relieve hay fever, sore throat, and\\nheartburn. (Illustration by Electronic Illustrators Group.)\\nGEM - 0001 to 0432 - A  10/22/03 1:41 PM  Page 37'"
      ]
     },
     "execution_count": 22,
     "metadata": {},
     "output_type": "execute_result"
    }
   ],
   "source": [
    "text_chunks[400].page_content"
   ]
  },
  {
   "cell_type": "code",
   "execution_count": 7,
   "metadata": {},
   "outputs": [],
   "source": [
    "# text_chunks"
   ]
  },
  {
   "cell_type": "code",
   "execution_count": null,
   "metadata": {},
   "outputs": [],
   "source": []
  },
  {
   "cell_type": "markdown",
   "metadata": {},
   "source": [
    "### Embedding Model "
   ]
  },
  {
   "cell_type": "code",
   "execution_count": 23,
   "metadata": {},
   "outputs": [],
   "source": [
    "import google.generativeai as genai\n",
    "from dotenv import load_dotenv\n",
    "load_dotenv()\n",
    "GEMINI_API_KEY=os.getenv(\"GOOGLE_API_KEY\")\n",
    "PINECONE_API_KEY = os.getenv('PINECONE_API_KEY')"
   ]
  },
  {
   "cell_type": "code",
   "execution_count": 31,
   "metadata": {},
   "outputs": [],
   "source": [
    "genai.configure(api_key=GEMINI_API_KEY)\n",
    "\n",
    "def get_gemini_embedding(text):\n",
    "    result = genai.embed_content(\n",
    "        model=\"models/embedding-001\",\n",
    "        content=text\n",
    "    )\n",
    "    return result[\"embedding\"]"
   ]
  },
  {
   "cell_type": "code",
   "execution_count": 32,
   "metadata": {},
   "outputs": [
    {
     "name": "stdout",
     "output_type": "stream",
     "text": [
      "768\n"
     ]
    }
   ],
   "source": [
    "query_result = get_gemini_embedding(\"hello world\")\n",
    "print(len(query_result))"
   ]
  },
  {
   "cell_type": "code",
   "execution_count": 33,
   "metadata": {},
   "outputs": [],
   "source": [
    "import os\n",
    "from pinecone import Pinecone, ServerlessSpec\n",
    "\n",
    "pc = Pinecone(api_key=PINECONE_API_KEY)\n",
    "\n",
    "index_name = 'llama-chatbot'\n",
    "index = pc.Index(index_name)"
   ]
  },
  {
   "cell_type": "code",
   "execution_count": 34,
   "metadata": {},
   "outputs": [
    {
     "data": {
      "text/plain": [
       "<pinecone.data.index.Index at 0x2720288d8d0>"
      ]
     },
     "execution_count": 34,
     "metadata": {},
     "output_type": "execute_result"
    }
   ],
   "source": [
    "index"
   ]
  },
  {
   "cell_type": "code",
   "execution_count": 35,
   "metadata": {},
   "outputs": [],
   "source": [
    "upsert_data = [(str(i), get_gemini_embedding(text_chunks[i].page_content),{\"text\": text_chunks[i].page_content}) for i in range(len(text_chunks))]\n",
    "\n"
   ]
  },
  {
   "cell_type": "code",
   "execution_count": 36,
   "metadata": {},
   "outputs": [
    {
     "name": "stdout",
     "output_type": "stream",
     "text": [
      "('50', [-0.012584968, -0.030572569, -0.028516477, -0.021046735, 0.037231583, 0.021155966, 0.019479766, -0.009392349, -0.011548036, 0.034207847, 0.0076141176, 0.0100267, 0.0051081167, 0.043778062, -0.035404198, -0.009758398, 0.01739472, -0.037396666, -0.047487643, -0.0053381994, 0.011133258, 0.015440317, -0.024159044, -0.036466073, 0.048799496, -0.04439283, 0.0011796087, -0.06117664, -0.01434713, 0.017185783, -0.02975989, 0.015487354, -0.035122562, 0.007557198, -0.01722336, -0.075188555, 0.0012135081, -0.0145842545, 0.008320674, 0.02447066, 0.023432024, -0.0009399453, -0.023850376, 0.019282436, 0.037062332, -0.04469776, 0.029672721, 0.04595869, 0.023002071, -0.0631669, -0.0015914042, 0.026077038, 0.05958253, -0.008611812, -0.0020206477, -0.026356537, 0.0005900204, 0.0036020428, -0.048105907, -0.0023005153, -0.016143031, 0.037556536, -0.0787604, 0.020947218, -0.015711688, -0.08881835, -0.03685563, -0.029540565, 0.08769921, 0.018256087, 0.03302891, -0.034351207, 0.06453947, -0.022641018, -0.07479967, -0.07425037, -0.015658842, 0.05081155, 0.03311572, 0.012537434, -0.04798906, -0.049792312, 0.0193882, -0.005973267, -0.049513638, 0.020667436, -0.024473578, 0.070184, 0.008237024, -0.004054083, 0.012863682, 0.008136113, -0.007868864, -0.0709274, -0.063863344, 0.018549269, -0.05773276, -0.017587868, 0.041817147, -0.060912624, 0.016775891, -0.033328734, -0.03223637, 0.039134953, 0.0359356, 0.010133062, -0.021127656, 0.036908947, -0.043862164, 0.024133457, -0.050718553, 0.009723734, -0.024397582, -0.036589414, 0.061167434, 0.052615955, -0.002929324, 0.020187004, 0.06837651, 0.0059919413, 0.021734321, 0.033273406, 0.012892897, 0.0019478578, 0.0546501, 0.033272088, 0.015177997, 0.018147284, 0.054606177, 0.03828507, -0.049863853, -0.015292914, -0.034593232, -0.049602024, 0.01648194, 0.06786603, 0.06563797, -0.073962934, 0.017905047, -0.03253005, -0.0014228175, 0.027487265, -0.0498534, 0.025695255, -0.033623397, 0.028436495, 0.00015409235, 0.0097028185, 0.05014748, -0.013394882, 0.049189527, -0.015534308, -0.027568534, 0.0134334555, 0.0711512, -0.026323145, -0.02010417, -0.03203996, -0.0020187353, -0.024045618, 0.048445042, -0.0028139646, 0.010633666, 0.022748303, 0.026940154, 0.029714141, 0.032364607, -0.011647199, 0.0029246972, -0.0055595115, -0.056385193, 0.03490228, -0.018321441, 0.013917415, -0.015559139, -0.073161185, 0.032988846, 0.0013552338, -0.06141729, -0.0031798286, -0.031421963, 0.028901696, -0.009689772, 0.029495949, 0.023588825, 0.01678745, 0.06275364, -0.059492573, -0.046489216, -0.0079199, -0.0010452324, -0.008676357, -0.042270023, -0.0060836477, 0.0023393193, 0.074643195, 0.0039279973, -0.00054160436, 0.02801636, 0.03444142, -0.008881676, 0.06688494, -0.022261582, 0.00509504, -0.056765415, -0.01651184, 0.053413667, -0.05278572, -0.020316545, 0.013586697, -0.029875858, 0.03752429, 0.013646455, 0.019223504, 0.0015734151, 0.004451685, 0.04644783, -0.013700978, -0.0065474156, -0.06857539, 0.013147355, 0.0165233, -0.054722298, 0.04871007, 0.006033253, 0.030088365, -0.017640479, 0.020298187, -0.0037116709, -0.06727533, -0.0012876868, 0.09718089, 0.010691687, -0.06711029, -0.009057454, 0.053359903, -0.0014914395, 0.038285427, 0.037082892, 0.0142318215, -0.038750056, 0.03211792, -0.0037758055, -0.012552873, -0.085696355, 0.002957348, -0.051982943, 0.04128475, 0.025053766, 0.0068774894, 0.021573769, -0.063775554, -0.010087052, 0.008642228, -0.09726095, 0.04301358, -0.013812945, -0.0006900144, 0.018785808, -0.004416504, 0.045746196, -0.07481957, 0.02305431, -0.010046144, -0.04324817, -0.025893401, 0.010761445, -0.03239775, -0.015931895, 0.010848179, 0.01710544, -0.01484222, 0.015595657, -0.0322704, -0.021429239, 0.006217568, 0.038488857, 0.06881833, 0.058734775, -0.06061598, 0.024281744, 0.051162448, 0.057854895, -0.038435288, -0.0075090346, -0.022086373, -0.043914657, -0.017043574, 0.0028215635, -0.029510517, -0.06619351, -0.023602491, 0.014631101, -0.070248865, 0.022434331, 0.035825375, -0.0120565845, 0.013055762, 0.03099007, 0.000858327, -0.008822477, -0.04799608, -0.004457592, -0.036208626, -0.0047883154, -0.0012807333, 0.046074588, -0.01544222, 0.008095545, -0.017836014, -0.030169718, -0.024224095, 0.020575693, 0.0052163727, 0.040144127, 0.04299129, 0.012648374, 0.03725985, -0.03484152, 0.039510846, 0.0011327313, 0.046216913, 0.07093294, 0.007624, 0.023490341, 0.020592202, 0.0022887245, -0.031934883, -0.0071335593, -0.0006522462, -0.022035182, -0.021818172, -0.035012256, 0.023926415, 0.00016017495, 0.03044578, -0.025270104, 0.062023815, -0.05116622, 0.006369773, 0.030527106, 0.017818054, -0.03959821, -0.022946963, -0.010217326, -0.013081507, -0.029615201, 0.034393005, 0.074399695, 0.014615898, -0.059729885, 0.055602066, -0.03384959, -0.071281366, 0.0040248623, -0.023738194, 0.099229604, 0.029669406, 0.026376894, -0.010303003, -0.05835874, 0.07374435, -0.008802581, 0.0036704435, -0.0068767653, 0.01120068, 0.022333408, 0.027834902, -0.04178959, 0.06835309, 0.045605805, -0.02242214, 0.004759857, -0.0071409214, 0.025315454, -0.006701518, -0.0047667194, 0.021503141, -0.018268729, 0.01300166, 0.007853038, 0.0013139872, 0.02001618, 0.023151536, 0.02245258, -0.0019289914, -0.0002465506, 0.056299344, -0.028089317, 0.04511008, 0.021530885, -0.0021324637, 0.09428659, 0.058236323, -0.025506632, -0.06743102, 0.003316132, -0.035209317, 0.013648462, 0.062888525, 0.0059206313, -0.041284744, -0.042671327, 0.0054329964, 0.0014545474, 0.0036006186, 0.0007578985, -0.05022763, 0.0076045734, -0.038191088, 0.0019870368, -0.0022799987, -0.020959716, -0.0288467, -0.07084747, -0.0032541375, 0.067218505, -0.0035950926, -0.021704916, 0.05687851, 0.028655881, 0.033111352, 0.046770073, 0.046113126, -0.038250346, -0.012140902, 0.05268448, 0.043038864, 0.016224481, 0.004132227, 0.028106581, 0.038235307, 0.016788594, -0.041669007, -0.016726503, -0.03325459, 0.017235627, 0.024461582, -0.035610005, 0.017986434, 0.049958862, -0.017702512, 0.037482746, 0.011813263, -0.022549381, -0.026915697, 0.0071277563, 0.0036922356, 0.024623571, -0.09577121, 0.02071754, -0.05374842, 0.016816495, -0.042417154, -0.04916354, -0.061680544, 0.017086366, 0.030687438, 0.033741724, -0.013158964, -0.018782906, -0.05502332, -0.03835646, -0.10843782, -0.01734055, -0.05588032, -0.03131305, -0.026034048, 0.0019161842, 0.02309858, 0.028527975, -0.069624424, 0.02275716, 0.005229162, 0.019849971, 0.011677535, -0.016521612, 0.012932146, -0.03831021, -0.033898868, 0.01564603, -0.03326019, 0.08279937, -0.020964274, 0.009300826, 0.039926734, -0.010354962, -0.010419751, -0.04084242, 0.016737496, 0.038689367, -0.006810124, -0.014583418, -0.047960363, -0.03660283, -0.005293707, -0.010574403, 0.027650105, 0.10003902, 0.054016646, -0.009931256, 0.006950016, -0.0068547744, -0.022147529, 0.07430084, -0.037368696, 0.020388026, 0.040504504, -0.03325774, -0.03938748, 0.004494801, 0.028998101, 0.013797784, -0.02312151, 0.036763493, -0.010370726, -0.027231509, -0.0017428132, 0.026621839, 0.008298272, 0.07118875, 0.022603229, -0.10293659, 0.008796561, 0.07011266, -0.09376906, 0.024913106, 0.027395424, -0.02383922, 0.004732433, -0.0026857348, 0.039328646, -0.010144221, -0.01596685, 0.0077959597, -0.0059953337, 0.036387675, -0.036307026, -0.0072798524, 0.011541866, 0.015284472, -0.031921096, 0.011870033, -0.02291965, -0.034376487, -0.020495253, 0.052323338, -0.024086758, -0.002226204, -0.035056736, -0.017821794, -0.011971411, 0.039399624, 0.008626039, 0.0058951145, 0.008642828, -0.022698777, -0.029377954, -0.02431937, -0.029030496, -0.016809607, -0.0030910561, 0.025807409, -0.014295252, 0.078383, 0.03703444, 0.00014164177, -0.05022216, 0.011115186, -0.061398618, 0.028657421, -0.0609631, 0.0316964, 0.013978041, 0.04198247, 0.0033704655, -0.041818026, 0.00024390334, -0.0014945001, 0.011679139, 0.064440064, -0.0021681024, -0.015634773, 0.036565673, -0.055234373, 0.040092386, 0.052533157, -0.053349573, 0.042232685, -0.03095421, -0.03355818, 0.025226662, -0.010441157, 0.00836359, -0.049740467, 0.023852084, -0.0048538665, -0.056363754, 0.054554466, 0.024065785, -0.03192951, -0.10166536, 0.016018625, -0.0030265257, 0.009836923, -0.005615769, 0.0041599446, -0.016768841, -0.028346512, -0.0021754953, 0.03758655, -0.02418956, -0.011695792, 0.018292705, -0.058010075, -0.01086995, 0.053619854, -0.010184884, -0.0008428539, -0.04428637, 0.040942386, 0.029787196, -0.0095947785, -0.01472034, 0.027815538, 0.024867557, -0.0112352995, -0.07404866, 0.06089279, 0.04778629, 0.02191086, 0.022861356, -0.035410054, -0.021630809, -0.055345464, -0.012061482, 0.020040266, -0.016537871, -0.027445406, 0.0039225784, -0.0690923, -0.0016473611, 0.034629054, 0.023746485, 0.0015150874, 0.016194625, 0.042878117, -0.10515569, -0.047889076, 0.018021045, -0.046029616, -0.06841533, 0.036782634, 0.014308694, 0.042574964, 0.010550725, -0.072485596, -0.0028143446, 0.019553788, -0.007968202, 0.0013422522, -0.031766675, -0.006695286, 0.014471232, 0.025828607, 0.0029931178, -0.02289574, -0.055133447, -0.03427352, 0.018387977, -0.04641014, 0.027637396, 0.031777214, -0.0069036, 0.009379006, 0.03636535, -0.042612236, 0.034015518, -0.012595764, 0.025648, 0.009615502, -0.02861252, -0.062354006, -0.011242032, -0.035832606, 0.012569747, 0.0030420541, 0.0118582845, -0.05664727, -0.04237679, 0.028554736, -0.030287864, 0.033864897, 0.038480405, 0.065148264, 0.020960715, 0.008218447, 0.017388398, 0.022099288, 0.08111401, -0.018599316, -0.0249946, 0.00024768422, 0.06841227, -0.012623541, -0.01763575, -0.0060085333, -0.0051579406, 0.05713001, 0.061369464, 0.06672249, -0.06317952, -0.020973228, 0.0042067273, 0.0108748255, -0.022897389, -0.01569931, 0.06937798, -0.059319947, 0.020164337, 0.0045492607, -0.0077467533, 0.029911023, -0.027578052, -0.022855718, 0.029198496, -0.023667682, 0.053843003, -0.052353434, -0.007262807, 0.08031763, -0.01901552, -0.017167548, 0.032508153, -0.054388903, 0.07185229, 0.00078907376, 0.024060182, -0.038260736, -0.0015746466, -0.062271718, -0.020881496, 0.050329868, 0.04200752, -0.00025646703, -0.039217997, 0.03478631, -0.0010813545, 0.026244562, 0.0012632133, -0.044034846, -0.00085062266, -0.013804748, 0.024911733, 0.02878795, -0.06445006, 0.0028471565, -0.016968625, -0.0051376633, 0.032902107, -0.049805798, 0.01620416, -0.024594571, -0.013028089, -0.0040013967, 0.04179436, -0.04232448, -0.027851244], {'text': 'Massachusetts General Hospital\\nBoston, MA\\nKim A. Sharp, M.Ln.\\nWriter\\nRichmond, TX\\nJudith Sims, M.S.\\nMedical Writer\\nLogan, UT\\nJoyce S. Siok, R.N.\\nMedical Writer\\nSouth Windsor, CT\\nJ. Ricker Polsdorfer, M.D.\\nMedical Writer\\nPhoenix, AZ\\nScott Polzin, M.S., C.G.C.\\nMedical Writer\\nBuffalo Grove, IL\\nElizabeth J. Pulcini, M.S.\\nMedical Writer\\nPhoenix, Arizona\\nNada Quercia, M.S., C.C.G.C.\\nGenetic Counselor\\nDivision of Clinical and Metabolic\\nGenetics\\nThe Hospital for Sick Children\\nToronto, ON, Canada'})\n"
     ]
    }
   ],
   "source": [
    "print(upsert_data[50])"
   ]
  },
  {
   "cell_type": "code",
   "execution_count": 37,
   "metadata": {},
   "outputs": [],
   "source": [
    "namespace = \"medical-chat\"\n",
    "batch_size = 100  # or any number that suits your data size\n",
    "for i in range(0, len(upsert_data), batch_size):\n",
    "    batch = upsert_data[i:i + batch_size]\n",
    "    index.upsert(vectors=batch,namespace=namespace)\n"
   ]
  },
  {
   "cell_type": "code",
   "execution_count": 38,
   "metadata": {},
   "outputs": [],
   "source": [
    "query = \"What are allergies?\"\n",
    "query_embedding = get_gemini_embedding(query)  # encoding query text into vector"
   ]
  },
  {
   "cell_type": "code",
   "execution_count": 39,
   "metadata": {},
   "outputs": [
    {
     "data": {
      "text/plain": [
       "768"
      ]
     },
     "execution_count": 39,
     "metadata": {},
     "output_type": "execute_result"
    }
   ],
   "source": [
    "len(query_embedding)"
   ]
  },
  {
   "cell_type": "code",
   "execution_count": 40,
   "metadata": {},
   "outputs": [],
   "source": [
    "\n",
    "# Perform similarity search\n",
    "results = index.query(\n",
    "    vector=query_embedding,  # Query vector\n",
    "    top_k=3,  # Retrieve top 3 most similar documents\n",
    "    include_metadata=True,  # Include metadata if available,\n",
    "    namespace=namespace\n",
    ")\n",
    "\n",
    "\n"
   ]
  },
  {
   "cell_type": "code",
   "execution_count": 41,
   "metadata": {},
   "outputs": [
    {
     "data": {
      "text/plain": [
       "{'matches': [{'id': '1158',\n",
       "              'metadata': {'text': 'Allergies\\n'\n",
       "                                   'GEM - 0001 to 0432 - A  10/22/03 1:42 PM  '\n",
       "                                   'Page 118'},\n",
       "              'score': 0.814151049,\n",
       "              'values': []},\n",
       "             {'id': '1122',\n",
       "              'metadata': {'text': 'Description\\n'\n",
       "                                   'Allergies are among the most common of '\n",
       "                                   'medical\\n'\n",
       "                                   'disorders. It is estimated that 60 million '\n",
       "                                   'Americans, or\\n'\n",
       "                                   'more than one in every five people, suffer '\n",
       "                                   'from some\\n'\n",
       "                                   'form of allergy, with similar proportions '\n",
       "                                   'throughout\\n'\n",
       "                                   'much of the rest of the world. Allergy is '\n",
       "                                   'the single largest\\n'\n",
       "                                   'reason for school absence and is a major '\n",
       "                                   'source of lost\\n'\n",
       "                                   'productivity in the workplace.\\n'\n",
       "                                   'An allergy is a type of immune reaction. '\n",
       "                                   'Normally,\\n'\n",
       "                                   'the immune system responds to foreign '\n",
       "                                   'microorganisms'},\n",
       "              'score': 0.802738667,\n",
       "              'values': []},\n",
       "             {'id': '1092',\n",
       "              'metadata': {'text': 'ganisms, or particles, like pollen or '\n",
       "                                   'dust, by producing\\n'\n",
       "                                   'specific proteins, called antibodies, that '\n",
       "                                   'are capable of\\n'\n",
       "                                   'binding to identifying molecules, or '\n",
       "                                   'antigens, on the for-\\n'\n",
       "                                   'eign particle. This reaction between '\n",
       "                                   'antibody and antigen\\n'\n",
       "                                   'sets off a series of reactions designed to '\n",
       "                                   'protect the body\\n'\n",
       "                                   'from infection. Sometimes, this same '\n",
       "                                   'series of reactions\\n'\n",
       "                                   'is triggered by harmless, everyday '\n",
       "                                   'substances. This is the\\n'\n",
       "                                   'condition known as allergy, and the '\n",
       "                                   'offending substance\\n'\n",
       "                                   'is called an allergen.'},\n",
       "              'score': 0.787940741,\n",
       "              'values': []}],\n",
       " 'namespace': 'medical-chat',\n",
       " 'usage': {'read_units': 6}}"
      ]
     },
     "execution_count": 41,
     "metadata": {},
     "output_type": "execute_result"
    }
   ],
   "source": [
    "results"
   ]
  },
  {
   "cell_type": "code",
   "execution_count": null,
   "metadata": {},
   "outputs": [],
   "source": [
    "# # for Pinecone.from_existing_index method only \n",
    "# from langchain.vectorstores import Pinecone  "
   ]
  },
  {
   "cell_type": "code",
   "execution_count": null,
   "metadata": {},
   "outputs": [],
   "source": [
    "# older (from langchain.vectorstores)\n",
    "\n",
    "# vectorstore = Pinecone.from_existing_index(\n",
    "#     index_name=index_name,  # Pinecone index name\n",
    "#     embedding=get_gemini_embedding,  # Embedding function for queries\n",
    "#     namespace=\"medical-chat\"  # Correct namespace\n",
    "# )\n",
    "\n",
    "# # Now get a retriever\n",
    "# retriever = vectorstore.as_retriever(search_kwargs={\"k\": 3})\n",
    "\n"
   ]
  },
  {
   "cell_type": "code",
   "execution_count": 56,
   "metadata": {},
   "outputs": [],
   "source": [
    "# newer (from pinecone python SDK)\n",
    "def retrieve_documents(query, top_k=3):\n",
    "    query_embedding = get_gemini_embedding(query)\n",
    "    results = index.query(vector=query_embedding, top_k=top_k, include_metadata=True, namespace=\"medical-chat\")\n",
    "    return [match['metadata']['text'] for match in results['matches']]\n"
   ]
  },
  {
   "cell_type": "code",
   "execution_count": 57,
   "metadata": {},
   "outputs": [],
   "source": [
    "prompt_template = \"\"\" \n",
    "\n",
    "If you don't know the answer, interact according to your intelligence.\n",
    "\n",
    "Context:{context}\n",
    "Question: {question}\n",
    "\n",
    "Return the helpful answer below and nothing else.\n",
    "Helpful answer: \n",
    "\n",
    "\"\"\""
   ]
  },
  {
   "cell_type": "code",
   "execution_count": 58,
   "metadata": {},
   "outputs": [],
   "source": [
    "prompt = PromptTemplate(template=prompt_template,input_variables=['context','question'])\n",
    "chain_type_kwargs = {\"prompt\":prompt}"
   ]
  },
  {
   "cell_type": "code",
   "execution_count": 59,
   "metadata": {},
   "outputs": [],
   "source": [
    "# llm = CTransformers(model=\"model/llama-2-7b-chat.ggmlv3.q4_0.bin\",\n",
    "#                     model_type=\"llama\",\n",
    "#                     config={'max_new_tokens':512,\n",
    "#                             'temperature':0.8})\n",
    "\n",
    "\n",
    "\n",
    "from langchain_google_genai import ChatGoogleGenerativeAI\n",
    "llm = ChatGoogleGenerativeAI(model=\"gemini-1.5-flash\", temperature = 0.8, max_tokens=512)"
   ]
  },
  {
   "cell_type": "code",
   "execution_count": 60,
   "metadata": {},
   "outputs": [],
   "source": [
    "# older (from langchain.vectores module)\n",
    "\n",
    "# qa_chain = RetrievalQA.from_chain_type(\n",
    "#     llm=llm,\n",
    "#     retriever=retriever,\n",
    "#     chain_type=\"stuff\",\n",
    "#     chain_type_kwargs={\"prompt\": prompt},\n",
    "# )"
   ]
  },
  {
   "cell_type": "code",
   "execution_count": 61,
   "metadata": {},
   "outputs": [],
   "source": [
    "def ask_question(question):\n",
    "    context_docs = retrieve_documents(question)\n",
    "    context = \"\\n\".join(context_docs)\n",
    "    final_prompt = prompt.format(context=context, question=question)\n",
    "    return llm.invoke(final_prompt).content\n"
   ]
  },
  {
   "cell_type": "code",
   "execution_count": 62,
   "metadata": {},
   "outputs": [],
   "source": [
    "# older (from langchain.vectores Pinecone method )\n",
    "\n",
    "# question = \"what are allergies \"\n",
    "# answer = qa_chain.run(question)\n",
    "# print(f\"Answer: {answer}\")"
   ]
  },
  {
   "cell_type": "code",
   "execution_count": 63,
   "metadata": {},
   "outputs": [
    {
     "name": "stdout",
     "output_type": "stream",
     "text": [
      "Answer: Allergies are a type of immune reaction where the body's immune system responds to harmless substances (allergens) as if they were harmful foreign invaders.  This triggers a series of reactions that can cause symptoms like sneezing, itching, rash, and more.  They are among the most common medical disorders, affecting a significant portion of the population.\n"
     ]
    }
   ],
   "source": [
    "question = \"what are allergies\"\n",
    "answer = ask_question(question)\n",
    "print(f\"Answer: {answer}\")\n"
   ]
  },
  {
   "cell_type": "code",
   "execution_count": null,
   "metadata": {},
   "outputs": [],
   "source": []
  }
 ],
 "metadata": {
  "kernelspec": {
   "display_name": "openaidemo",
   "language": "python",
   "name": "python3"
  },
  "language_info": {
   "codemirror_mode": {
    "name": "ipython",
    "version": 3
   },
   "file_extension": ".py",
   "mimetype": "text/x-python",
   "name": "python",
   "nbconvert_exporter": "python",
   "pygments_lexer": "ipython3",
   "version": "3.10.16"
  }
 },
 "nbformat": 4,
 "nbformat_minor": 2
}
