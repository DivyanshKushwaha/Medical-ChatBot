{
 "cells": [
  {
   "cell_type": "code",
   "execution_count": 1,
   "metadata": {},
   "outputs": [],
   "source": [
    "import os "
   ]
  },
  {
   "cell_type": "code",
   "execution_count": 2,
   "metadata": {},
   "outputs": [
    {
     "data": {
      "text/plain": [
       "'d:\\\\Tutorial\\\\GenAI\\\\Projects\\\\Medical-Chatbot\\\\research'"
      ]
     },
     "execution_count": 2,
     "metadata": {},
     "output_type": "execute_result"
    }
   ],
   "source": [
    "%pwd"
   ]
  },
  {
   "cell_type": "code",
   "execution_count": 3,
   "metadata": {},
   "outputs": [],
   "source": [
    "os.chdir('../')"
   ]
  },
  {
   "cell_type": "code",
   "execution_count": 4,
   "metadata": {},
   "outputs": [
    {
     "data": {
      "text/plain": [
       "'d:\\\\Tutorial\\\\GenAI\\\\Projects\\\\Medical-Chatbot'"
      ]
     },
     "execution_count": 4,
     "metadata": {},
     "output_type": "execute_result"
    }
   ],
   "source": [
    "%pwd "
   ]
  },
  {
   "cell_type": "code",
   "execution_count": 26,
   "metadata": {},
   "outputs": [],
   "source": [
    "from langchain import PromptTemplate\n",
    "from langchain.chains import RetrievalQA\n",
    "from langchain.embeddings import HuggingFaceEmbeddings\n",
    "from langchain.vectorstores import Pinecone\n",
    "import pinecone\n",
    "from langchain.document_loaders import PyMuPDFLoader, DirectoryLoader,PyPDFLoader\n",
    "from langchain.text_splitter import RecursiveCharacterTextSplitter\n",
    "from langchain.prompts import PromptTemplate\n",
    "from langchain.llms import CTransformers\n",
    "# from langchain.retrievers import PineconeRetriever"
   ]
  },
  {
   "cell_type": "code",
   "execution_count": 6,
   "metadata": {},
   "outputs": [],
   "source": [
    "def load_pdf(data):\n",
    "    loader = DirectoryLoader(data,\n",
    "                    glob=\"*.pdf\",\n",
    "                    loader_cls=PyPDFLoader)\n",
    "    documents = loader.load()\n",
    "    return documents "
   ]
  },
  {
   "cell_type": "code",
   "execution_count": 7,
   "metadata": {},
   "outputs": [],
   "source": [
    "extracted_data = load_pdf(\"data/\")"
   ]
  },
  {
   "cell_type": "code",
   "execution_count": 9,
   "metadata": {},
   "outputs": [
    {
     "data": {
      "text/plain": [
       "Document(metadata={'source': 'data\\\\medical-book.pdf', 'page': 450, 'page_label': '451'}, page_content='OTHER\\nThe Meck Page.13 Apr. 1998 <http://www.merck.com>.\\nRichard Robinson\\nBacterial meningitis see Meningitis\\nBacterial vaginosis see Vulvovaginitis\\nBacteroides infection see Anaerobic\\ninfections\\nBad breath\\nDefinition\\nBad breath, sometimes called halitosis, is an\\nunpleasant odor of the breath.\\nDescription\\nBad breath is likely to be experienced by most adults\\nat least occasionally. Bad breath, either real or imagined,\\ncan have a significant impact on a person’s social and\\nprofessional life.\\nCauses and symptoms\\nBad breath can be caused by a number of problems.\\nOral diseases, fermentation of food particles in the\\nmouth, sinus infections, and unclean dentures can all\\ncontribute to mouth odor. Many non-oral diseases, such\\nas lung infections, kidney failure, or severe liver disease,\\ncan also cause bad breath, though rarely. Many people\\nthink that bad breath can originate in the stomach or\\nintestines; this is extremely rare. The esophagus is usual-\\nly collapsed and closed, and, although a belch may carry\\nodor up from the stomach, the chance of bad breath\\nbeing caused from air continually escaping from the\\nstomach is remote. Cigarette smoke can cause bad\\nbreath, not only in the cigarette smoker, but also in one\\nwho is constantly exposed to second-hand smoke.\\nDiagnosis\\nThe easiest way to determine if one has bad breath is\\nto ask someone who is trustworthy and discrete. This is\\nusually not too difficult. Another, more private, method of\\ndetermining if one has bad breath is to lick one’s wrist,\\nwait until it dries, then smell the area. Scraping the rear\\narea of the tongue with a plastic spoon, then smelling the\\nspoon, is another method one can use to assess bad breath.\\nKEY TERMS\\nHalitosis—The medical term for bad breath.\\nTreatment\\nThe most effective treatment of bad breath is to treat\\nthe cause. Poor oral hygiene can be improved by regular\\nbrushing and flossing, as well as regular dental checkups.\\nGentle brushing of the tongue should be part of daily oral\\nhygiene. In addition to good oral hygiene, the judicious\\nuse of mouthwashes is helpful. Mouth dryness, experi-\\nenced at night or during fasting, or due to certain med-\\nications and medical conditions, can contribute to bad\\nbreath. Dryness can be avoided by drinking adequate\\namounts of water. Chewing gum may be beneficial.\\nAs mentioned, some medications, such as some high\\nblood pressure medications, can cause dry mouth. If this\\nproblem is significant, a medication change, under the\\nsupervision of one’s health care provider, may improve\\nthe dry-mouth condition. Oral or sinus infections, once\\ndiagnosed, can be treated medically, usually with antibi-\\notics. Lung infections and kidney or liver problems will,\\nof course, need medical treatment\\nAlternative treatment\\nDepending on the cause, a multitude of alternative\\ntherapeutic remedies can be used. For example, sinusitis\\ncan be treated with steam inhalation of essential oils\\nand/or herbs.\\nPrognosis\\nMost bad breath can be treated successfully with\\ngood oral hygiene and/or medical care. Occasionally, for\\npatients who feel that these therapies are unsuccessful,\\nsome delusional or obsessive behavior pattern might per-\\ntain, and mental health counseling may be appropriate.\\nResources\\nBOOKS\\nBerkow, Robert, ed. The Merck Manual. 16th ed. Rahway, NJ:\\nMerck Sharp & Dohme Research Laboratories, 1992.\\nPERIODICALS\\nRosenberg, M. “Clinical Assessment of Bad Breath.”Journal\\nof the American Dental Association (Apr. 1996): 475-481.\\nORGANIZATIONS\\nAmerican Dental Association. 211 E. Chicago Ave., Chicago,\\nIL 60611. (312) 440-2500. <http://www.ada.org>.\\nGALE ENCYCLOPEDIA OF MEDICINE 2 437\\nBad breath\\nGEM -0433 to 0624 - B  10/22/03 6:08 PM  Page 437')"
      ]
     },
     "execution_count": 9,
     "metadata": {},
     "output_type": "execute_result"
    }
   ],
   "source": [
    "extracted_data[450]"
   ]
  },
  {
   "cell_type": "markdown",
   "metadata": {},
   "source": [
    "### Create text chunks"
   ]
  },
  {
   "cell_type": "code",
   "execution_count": 10,
   "metadata": {},
   "outputs": [],
   "source": [
    "def text_split(data_extracted):\n",
    "\n",
    "    text_splitter = RecursiveCharacterTextSplitter(chunk_size=500, chunk_overlap=20)\n",
    "    text_chunks = text_splitter.split_documents(data_extracted)\n",
    "    return text_chunks\n"
   ]
  },
  {
   "cell_type": "code",
   "execution_count": 11,
   "metadata": {},
   "outputs": [
    {
     "name": "stdout",
     "output_type": "stream",
     "text": [
      "5860\n"
     ]
    }
   ],
   "source": [
    "text_chunks = text_split(extracted_data)\n",
    "print(len(text_chunks))"
   ]
  },
  {
   "cell_type": "code",
   "execution_count": 12,
   "metadata": {},
   "outputs": [
    {
     "data": {
      "text/plain": [
       "Document(metadata={'source': 'data\\\\medical-book.pdf', 'page': 50, 'page_label': '51'}, page_content='Acupressure points to relieve hay fever, sore throat, and\\nheartburn. (Illustration by Electronic Illustrators Group.)\\nGEM - 0001 to 0432 - A  10/22/03 1:41 PM  Page 37')"
      ]
     },
     "execution_count": 12,
     "metadata": {},
     "output_type": "execute_result"
    }
   ],
   "source": [
    "text_chunks[400]"
   ]
  },
  {
   "cell_type": "code",
   "execution_count": 7,
   "metadata": {},
   "outputs": [],
   "source": [
    "# text_chunks"
   ]
  },
  {
   "cell_type": "markdown",
   "metadata": {},
   "source": [
    "### Embedding Model "
   ]
  },
  {
   "cell_type": "code",
   "execution_count": 13,
   "metadata": {},
   "outputs": [],
   "source": [
    "import os\n",
    "def download_embeddings():\n",
    "    # Define the path where the embeddings should be saved\n",
    "    cache_dir = os.path.join(os.getcwd(), \"modelEmbedd\")\n",
    "    \n",
    "    # Initialize embeddings with the specified cache directory\n",
    "    embeddings = HuggingFaceEmbeddings(\n",
    "        model_name=\"sentence-transformers/all-MiniLM-L6-v2\",\n",
    "        cache_folder=cache_dir\n",
    "    )\n",
    "    return embeddings"
   ]
  },
  {
   "cell_type": "code",
   "execution_count": 14,
   "metadata": {},
   "outputs": [
    {
     "name": "stderr",
     "output_type": "stream",
     "text": [
      "C:\\Users\\jatin\\AppData\\Local\\Temp\\ipykernel_11904\\2748525625.py:7: LangChainDeprecationWarning: The class `HuggingFaceEmbeddings` was deprecated in LangChain 0.2.2 and will be removed in 1.0. An updated version of the class exists in the :class:`~langchain-huggingface package and should be used instead. To use it run `pip install -U :class:`~langchain-huggingface` and import as `from :class:`~langchain_huggingface import HuggingFaceEmbeddings``.\n",
      "  embeddings = HuggingFaceEmbeddings(\n"
     ]
    },
    {
     "name": "stdout",
     "output_type": "stream",
     "text": [
      "WARNING:tensorflow:From d:\\conda-envs\\openaidemo\\lib\\site-packages\\tf_keras\\src\\losses.py:2976: The name tf.losses.sparse_softmax_cross_entropy is deprecated. Please use tf.compat.v1.losses.sparse_softmax_cross_entropy instead.\n",
      "\n"
     ]
    },
    {
     "name": "stderr",
     "output_type": "stream",
     "text": [
      "d:\\conda-envs\\openaidemo\\lib\\site-packages\\huggingface_hub\\file_download.py:140: UserWarning: `huggingface_hub` cache-system uses symlinks by default to efficiently store duplicated files but your machine does not support them in D:\\Tutorial\\GenAI\\Projects\\Medical-Chatbot\\modelEmbedd\\models--sentence-transformers--all-MiniLM-L6-v2. Caching files will still work but in a degraded version that might require more space on your disk. This warning can be disabled by setting the `HF_HUB_DISABLE_SYMLINKS_WARNING` environment variable. For more details, see https://huggingface.co/docs/huggingface_hub/how-to-cache#limitations.\n",
      "To support symlinks on Windows, you either need to activate Developer Mode or to run Python as an administrator. In order to activate developer mode, see this article: https://docs.microsoft.com/en-us/windows/apps/get-started/enable-your-device-for-development\n",
      "  warnings.warn(message)\n"
     ]
    }
   ],
   "source": [
    "embeddings = download_embeddings()"
   ]
  },
  {
   "cell_type": "code",
   "execution_count": 15,
   "metadata": {},
   "outputs": [
    {
     "data": {
      "text/plain": [
       "HuggingFaceEmbeddings(client=SentenceTransformer(\n",
       "  (0): Transformer({'max_seq_length': 256, 'do_lower_case': False}) with Transformer model: BertModel \n",
       "  (1): Pooling({'word_embedding_dimension': 384, 'pooling_mode_cls_token': False, 'pooling_mode_mean_tokens': True, 'pooling_mode_max_tokens': False, 'pooling_mode_mean_sqrt_len_tokens': False, 'pooling_mode_weightedmean_tokens': False, 'pooling_mode_lasttoken': False, 'include_prompt': True})\n",
       "  (2): Normalize()\n",
       "), model_name='sentence-transformers/all-MiniLM-L6-v2', cache_folder='d:\\\\Tutorial\\\\GenAI\\\\Projects\\\\Medical-Chatbot\\\\modelEmbedd', model_kwargs={}, encode_kwargs={}, multi_process=False, show_progress=False)"
      ]
     },
     "execution_count": 15,
     "metadata": {},
     "output_type": "execute_result"
    }
   ],
   "source": [
    "embeddings "
   ]
  },
  {
   "cell_type": "code",
   "execution_count": 16,
   "metadata": {},
   "outputs": [
    {
     "name": "stdout",
     "output_type": "stream",
     "text": [
      "384\n"
     ]
    }
   ],
   "source": [
    "query_result = embeddings.embed_query(\"hello world\")\n",
    "print(len(query_result))"
   ]
  },
  {
   "cell_type": "code",
   "execution_count": 17,
   "metadata": {},
   "outputs": [],
   "source": [
    "from dotenv import load_dotenv\n",
    "import os\n",
    "\n",
    "load_dotenv()  # This will load the environment variables from the .env file\n",
    "PINECONE_API_KEY = os.getenv('PINECONE_API_KEY')\n",
    "PINECONE_API_ENV= os.getenv('PINECONE_API_ENV')\n"
   ]
  },
  {
   "cell_type": "code",
   "execution_count": 18,
   "metadata": {},
   "outputs": [],
   "source": [
    "from pinecone import Pinecone\n",
    "\n",
    "pc = Pinecone(api_key=PINECONE_API_KEY,environment=PINECONE_API_ENV)\n",
    "\n",
    "# Connect to your existing index\n",
    "index_name = \"medical-chatbot\"\n",
    "index = pc.Index(index_name)  # Use the .index() method to retrieve the existing index\n"
   ]
  },
  {
   "cell_type": "code",
   "execution_count": 19,
   "metadata": {},
   "outputs": [
    {
     "data": {
      "text/plain": [
       "<pinecone.data.index.Index at 0x188cf75f6d0>"
      ]
     },
     "execution_count": 19,
     "metadata": {},
     "output_type": "execute_result"
    }
   ],
   "source": [
    "index"
   ]
  },
  {
   "cell_type": "code",
   "execution_count": 20,
   "metadata": {},
   "outputs": [],
   "source": [
    "# Assuming you have a HuggingFaceEmbeddings instance called 'embeddings'\n",
    "upsert_data = [(str(i), embeddings.embed_query(text_chunks[i].page_content),{\"text\": text_chunks[i].page_content}) for i in range(len(text_chunks))]\n",
    "\n",
    "# Perform the upsert\n"
   ]
  },
  {
   "cell_type": "code",
   "execution_count": 24,
   "metadata": {},
   "outputs": [
    {
     "name": "stdout",
     "output_type": "stream",
     "text": [
      "('50', [-0.023009084165096283, -0.024584908038377762, -0.05563613399863243, 0.05322492867708206, -0.06256762146949768, 0.004432018380612135, -0.030097471550107002, 0.0626663789153099, -0.025787582620978355, 0.0062860422767698765, 0.0010368417715653777, 0.06985747814178467, -0.06694687902927399, -0.02845495194196701, -0.06762570887804031, 0.023163527250289917, 0.0076363952830433846, 0.010384813882410526, 0.00993509590625763, 0.020671026781201363, -0.04169965907931328, 0.06432665884494781, 0.07907937467098236, 0.06253725290298462, 0.04383961111307144, 0.0022406226489692926, -0.016082728281617165, -0.02480974607169628, -0.03271229565143585, 0.04841664060950279, -0.02532374858856201, -0.004334788769483566, 0.054473504424095154, 0.03735858574509621, 0.03530607372522354, 0.023333081975579262, -0.0184114258736372, 0.08702198415994644, -0.0045023392885923386, 0.015262584201991558, 0.05669070780277252, -0.008907446637749672, 0.009143990464508533, 0.1178724616765976, 0.01925436407327652, -0.0852503851056099, -0.08357270807027817, 0.040929824113845825, 0.0062626260332763195, 0.12444965541362762, -0.09697840362787247, -0.041808489710092545, -0.013611889444291592, 0.06018051877617836, 0.04998929053544998, 0.008717691525816917, -0.043437324464321136, -0.07425469905138016, -0.07888474315404892, -0.022031545639038086, -0.06114887073636055, 0.04250093549489975, 0.020732000470161438, -0.04983659088611603, 0.062366556376218796, 0.03556358814239502, 0.06862040609121323, -0.032609838992357254, 0.018439896404743195, -0.10190805792808533, 0.03642425686120987, -0.0055678305216133595, -0.03069366328418255, 0.15762826800346375, -0.06971649825572968, 0.09461686760187149, -0.002007747069001198, 0.03554532304406166, -0.0059652733616530895, 0.009551011025905609, 0.021087849512696266, 0.02926270291209221, 0.05042686685919762, 0.059887103736400604, -0.054492104798555374, -0.06862896680831909, 0.01928206905722618, 0.02166598290205002, -0.06333276629447937, 0.03834173455834389, -0.003316855989396572, -0.00015130513929761946, 0.10451538860797882, -0.05195944011211395, -0.003345946781337261, -0.01183004304766655, -0.005406723823398352, -0.07090479880571365, -0.014353216625750065, -0.07122405618429184, -0.028061263263225555, 0.032206397503614426, 0.07066144049167633, 0.06994736939668655, -0.024129467085003853, -0.05738431215286255, 0.02741183154284954, -0.03188429772853851, -0.04882454127073288, -0.059919167309999466, 0.014460531063377857, 0.07465773820877075, 0.045759014785289764, 0.004189652856439352, 0.025109732523560524, 0.011322855949401855, 0.05826760455965996, -0.013522160239517689, 0.005100473761558533, 0.03154796361923218, -0.030644554644823074, -0.0009906550403684378, -0.04850726202130318, -0.000214648200199008, 0.0065017989836633205, 0.00028479378670454025, -0.09190379828214645, 1.7665979299470135e-33, -0.06039423868060112, 0.0038733077235519886, 0.07851023226976395, 0.09773536771535873, 0.016297731548547745, 0.06395205110311508, 0.007436067797243595, -0.05966400355100632, 0.025857975706458092, -0.07992718368768692, -0.06033351272344589, -0.0912151038646698, 0.07698477804660797, 0.05978213623166084, -0.1341392546892166, 0.058160796761512756, -0.05085036903619766, -0.027193691581487656, -0.02866806648671627, 0.08775836229324341, -0.03673551604151726, 0.009397484362125397, 0.006694191601127386, -0.0023542975541204214, -0.08117558807134628, 0.09583920985460281, -0.06974942982196808, 0.004076899960637093, 0.029269427061080933, -0.024055534973740578, -0.06198914721608162, -0.007064502220600843, 0.04153190553188324, -0.008149564266204834, -0.058334749191999435, -0.0026272470131516457, 0.034923139959573746, -0.046906400471925735, 0.0589798204600811, 0.12658850848674774, -0.09237224608659744, -0.031944241374731064, 0.0462612546980381, 0.0269841980189085, 0.076874740421772, 0.03408539295196533, -0.0625426396727562, -0.05563448742032051, -0.02577756717801094, -0.029770204797387123, 0.02439904771745205, -0.05727545917034149, -0.06340343505144119, -0.014604202471673489, 0.05098540708422661, -0.005222576670348644, -0.06508709490299225, 0.04622238874435425, -0.03138614073395729, 0.03984586521983147, 0.13124023377895355, 0.07007884234189987, -0.06303738057613373, -0.009968191385269165, -0.031109584495425224, -0.0953686311841011, -0.0551772378385067, 0.0064793662168085575, 0.04641280695796013, 0.008900383487343788, 0.10503590106964111, -0.03747476264834404, 0.018592897802591324, 0.03416238725185394, -0.04848871007561684, 0.029893573373556137, 0.012995066121220589, 0.011022860184311867, -0.054437506943941116, 0.001096720458008349, -0.05595368519425392, 0.051556188613176346, -0.0057501946575939655, 0.06524060666561127, -0.04382823407649994, -0.12281757593154907, 0.007547817192971706, 0.07781662791967392, -0.045980919152498245, -0.04877832159399986, -0.018870698288083076, 0.00992126390337944, 0.03285088762640953, 0.02335165999829769, -0.06648653000593185, -4.806350648724615e-33, -0.028007570654153824, -0.02316926047205925, -0.03765466809272766, -0.10205662250518799, -0.07286366820335388, -0.0029883503448218107, -0.01341779250651598, -0.08129487931728363, 0.042310670018196106, -0.002282112604007125, 0.029680492356419563, -0.016006389632821083, -0.047623760998249054, -0.04517333209514618, -0.023662496358156204, 0.011172189377248287, 0.015255074016749859, -0.011889818124473095, -0.08774364739656448, 0.007483808323740959, 0.04493282362818718, 0.040358252823352814, -0.024817267432808876, 0.05139162763953209, 0.10740207880735397, 0.010967030189931393, 0.017864549532532692, 0.08150151371955872, -0.026274533942341805, -0.04554177448153496, -0.054751232266426086, 0.11808282136917114, 0.06511815637350082, -0.026658792048692703, 0.021194204688072205, -0.02346421405673027, -0.061968136578798294, 0.006467123981565237, -0.04032793268561363, -0.06490717828273773, 0.01376862358301878, -0.007514596451073885, -0.031910404562950134, 0.05705297738313675, 0.03476149961352348, 0.06104939058423042, 0.05772256478667259, 0.0011294051073491573, 0.07706300169229507, 0.041629064828157425, 0.016924656927585602, -0.015763530507683754, -0.03196394816040993, 0.052547432482242584, -0.034985803067684174, -0.0585177019238472, 0.007292791735380888, -0.09822315722703934, -0.024524951353669167, -0.0184633806347847, 0.02665025368332863, -0.08266650885343552, -0.07912725955247879, -0.010463234968483448, -0.07715394347906113, -0.10334931313991547, 0.07955838739871979, -0.06315265595912933, 0.029725467786192894, 0.024328483268618584, -0.021569933742284775, -0.06450320035219193, 0.01902993768453598, -0.06218545511364937, 0.04197551682591438, -0.020757049322128296, -0.05395091697573662, 0.050639647990465164, -0.027935661375522614, -0.05357201769948006, 0.010958257131278515, -0.09749139100313187, 0.009781265631318092, 0.007348709274083376, -0.010289679281413555, -0.05414317920804024, -0.014624658972024918, 0.004526718519628048, 0.06527702510356903, 0.01827080175280571, -0.04835636541247368, -0.008639108389616013, -0.07725798338651657, -0.08668144792318344, -0.05621139705181122, -6.761077031569585e-08, 0.11951129883527756, -0.01031582336872816, -0.028137778863310814, 0.015019480139017105, -0.017774051055312157, 0.04310592636466026, -0.13866309821605682, 0.03309683874249458, 0.07213520258665085, 0.08956269919872284, -0.040084753185510635, 0.06125562638044357, -0.025751544162631035, -0.04579953849315643, 0.012503474950790405, -0.01587872952222824, -0.022242091596126556, 0.07852662354707718, 0.03856099024415016, 0.036433130502700806, -0.056219637393951416, -0.005962204188108444, -0.02913842163980007, 0.02575870044529438, 0.006780588533729315, -0.03257056698203087, 0.032368894666433334, -0.03462681919336319, 0.017679326236248016, -0.06347253918647766, 0.03172939270734787, 0.032752808183431625, -0.0065094358287751675, 0.04576790705323219, 0.008555767126381397, -0.0696745440363884, 0.06763039529323578, 0.010584673844277859, 0.04120898246765137, 0.026760347187519073, 0.03791598603129387, 0.010856131091713905, -0.01708819530904293, -0.015808479860424995, -0.01072543952614069, -0.10618168860673904, 0.03844285011291504, 0.039665356278419495, 0.07932845503091812, -0.037194233387708664, 0.004185402765870094, -0.059687789529561996, 0.010434899479150772, -0.013756899163126945, -0.007716632913798094, 0.0642927810549736, 0.030136551707983017, 0.02199796587228775, -0.059911392629146576, -0.025959912687540054, 0.07154586911201477, 0.02696126513183117, 0.017487885430455208, -0.033444084227085114], {'text': 'Massachusetts General Hospital\\nBoston, MA\\nKim A. Sharp, M.Ln.\\nWriter\\nRichmond, TX\\nJudith Sims, M.S.\\nMedical Writer\\nLogan, UT\\nJoyce S. Siok, R.N.\\nMedical Writer\\nSouth Windsor, CT\\nJ. Ricker Polsdorfer, M.D.\\nMedical Writer\\nPhoenix, AZ\\nScott Polzin, M.S., C.G.C.\\nMedical Writer\\nBuffalo Grove, IL\\nElizabeth J. Pulcini, M.S.\\nMedical Writer\\nPhoenix, Arizona\\nNada Quercia, M.S., C.C.G.C.\\nGenetic Counselor\\nDivision of Clinical and Metabolic\\nGenetics\\nThe Hospital for Sick Children\\nToronto, ON, Canada'})\n"
     ]
    }
   ],
   "source": [
    "print(upsert_data[50])"
   ]
  },
  {
   "cell_type": "code",
   "execution_count": 54,
   "metadata": {},
   "outputs": [
    {
     "name": "stdout",
     "output_type": "stream",
     "text": [
      "{'indexes': [{'deletion_protection': 'disabled',\n",
      "              'dimension': 384,\n",
      "              'host': 'medical-chatbot-bc4fyf5.svc.aped-4627-b74a.pinecone.io',\n",
      "              'metric': 'cosine',\n",
      "              'name': 'medical-chatbot',\n",
      "              'spec': {'serverless': {'cloud': 'aws', 'region': 'us-east-1'}},\n",
      "              'status': {'ready': True, 'state': 'Ready'}}]}\n",
      "Description of index: \n",
      " {'deletion_protection': 'disabled',\n",
      " 'dimension': 384,\n",
      " 'host': 'medical-chatbot-bc4fyf5.svc.aped-4627-b74a.pinecone.io',\n",
      " 'metric': 'cosine',\n",
      " 'name': 'medical-chatbot',\n",
      " 'spec': {'serverless': {'cloud': 'aws', 'region': 'us-east-1'}},\n",
      " 'status': {'ready': True, 'state': 'Ready'}}\n"
     ]
    }
   ],
   "source": [
    "print(pc.list_indexes())\n",
    "description = pc.describe_index(\"medical-chatbot\")\n",
    "print(f\"Description of index: \\n {description}\")"
   ]
  },
  {
   "cell_type": "code",
   "execution_count": 78,
   "metadata": {},
   "outputs": [],
   "source": [
    "batch_size = 100  # or any number that suits your data size\n",
    "for i in range(0, len(upsert_data), batch_size):\n",
    "    batch = upsert_data[i:i + batch_size]\n",
    "    index.upsert(vectors=batch)\n"
   ]
  },
  {
   "cell_type": "code",
   "execution_count": 27,
   "metadata": {},
   "outputs": [],
   "source": [
    "query = \"What are allergies?\"\n",
    "query_embedding = embeddings.embed_query(query)  # encoding query text into vector"
   ]
  },
  {
   "cell_type": "code",
   "execution_count": 28,
   "metadata": {},
   "outputs": [
    {
     "data": {
      "text/plain": [
       "384"
      ]
     },
     "execution_count": 28,
     "metadata": {},
     "output_type": "execute_result"
    }
   ],
   "source": [
    "len(query_embedding)"
   ]
  },
  {
   "cell_type": "code",
   "execution_count": 29,
   "metadata": {},
   "outputs": [],
   "source": [
    "\n",
    "# Perform similarity search\n",
    "results = index.query(\n",
    "    vector=query_embedding,  # Query vector\n",
    "    top_k=3,  # Retrieve top 3 most similar documents\n",
    "    include_metadata=True  # Include metadata if available\n",
    ")\n",
    "\n",
    "\n"
   ]
  },
  {
   "cell_type": "code",
   "execution_count": 30,
   "metadata": {},
   "outputs": [
    {
     "name": "stdout",
     "output_type": "stream",
     "text": [
      "Score: 0.702849507, Text: reaction. Allergic rhinitis is characterized by an itchy,\n",
      "runny nose, often with a scratchy or irritated throat due\n",
      "to post-nasal drip. Inflammation of the thin membrane\n",
      "covering the eye (allergic conjunctivitis) causes redness,\n",
      "irritation, and increased tearing in the eyes. Asthma caus-\n",
      "es wheezing, coughing, and shortness of breath. Symp-\n",
      "toms of food allergies depend on the tissues most sensi-\n",
      "tive to the allergen and whether the allergen spread sys-\n",
      "\n",
      "\n",
      "Score: 0.686704159, Text: reactions is triggered by harmless, everyday substances.\n",
      "This is the condition known as allergy, and the offend-\n",
      "ing substance is called an allergen. Common inhaled\n",
      "allergens include pollen, dust, and insect parts from tiny\n",
      "house mites. Common food allergens include nuts, fish,\n",
      "and milk.\n",
      "Allergic reactions involve a special set of cells in\n",
      "the immune system known as mast cells. Mast cells\n",
      "serve as guards in the tissues where the body meets the\n",
      "\n",
      "\n",
      "Score: 0.681826174, Text: Purpose\n",
      "Allergy is a reaction of the immune system. Nor-\n",
      "mally, the immune system responds to foreign microor-\n",
      "ganisms and particles, like pollen or dust, by producing\n",
      "specific proteins called antibodies that are capable of\n",
      "binding to identifying molecules, or antigens, on the\n",
      "foreign organisms. This reaction between antibody and\n",
      "antigen sets off a series of reactions designed to protect\n",
      "the body from infection. Sometimes, this same series of\n",
      "\n",
      "\n"
     ]
    }
   ],
   "source": [
    "# Print the results\n",
    "for match in results['matches']:\n",
    "    print(f\"Score: {match['score']}, Text: {match['metadata']['text']}\")\n",
    "    print(\"\\n\")"
   ]
  },
  {
   "cell_type": "code",
   "execution_count": 31,
   "metadata": {},
   "outputs": [
    {
     "name": "stderr",
     "output_type": "stream",
     "text": [
      "C:\\Users\\jatin\\AppData\\Local\\Temp\\ipykernel_11904\\583832345.py:1: LangChainDeprecationWarning: The class `Pinecone` was deprecated in LangChain 0.0.18 and will be removed in 1.0. An updated version of the class exists in the :class:`~langchain-pinecone package and should be used instead. To use it run `pip install -U :class:`~langchain-pinecone` and import as `from :class:`~langchain_pinecone import Pinecone``.\n",
      "  vectorstore = Pinecone(\n",
      "d:\\conda-envs\\openaidemo\\lib\\site-packages\\langchain_community\\vectorstores\\pinecone.py:68: UserWarning: Passing in `embedding` as a Callable is deprecated. Please pass in an Embeddings object instead.\n",
      "  warnings.warn(\n"
     ]
    }
   ],
   "source": [
    "vectorstore = Pinecone(\n",
    "    index=index,  # Pinecone index instance\n",
    "    embedding=embeddings.embed_query,  # Embedding function\n",
    "    text_key=\"text\"  # Key in metadata containing the document text\n",
    ")\n",
    "\n",
    "retriever = vectorstore.as_retriever(search_kwargs={\"k\": 3})\n",
    "\n"
   ]
  },
  {
   "cell_type": "code",
   "execution_count": 21,
   "metadata": {},
   "outputs": [],
   "source": [
    "prompt_template = \"\"\" \n",
    "Use the following peices of information to answer the user's question \n",
    "If you don't know the answer, just say that you don't know, don't try to make up an answer.\n",
    "\n",
    "Context:{context}\n",
    "Question: {question}\n",
    "\n",
    "Only return the helpful answer below and nothing else.\n",
    "Helpful answer: \n",
    "\n",
    "\"\"\""
   ]
  },
  {
   "cell_type": "code",
   "execution_count": 32,
   "metadata": {},
   "outputs": [],
   "source": [
    "prompt = PromptTemplate(template=prompt_template,input_variables=['context','question'])\n",
    "chain_type_kwargs = {\"prompt\":prompt}"
   ]
  },
  {
   "cell_type": "code",
   "execution_count": 41,
   "metadata": {},
   "outputs": [],
   "source": [
    "llm = CTransformers(model=\"model/llama-2-7b-chat.ggmlv3.q4_0.bin\",\n",
    "                    model_type=\"llama\",\n",
    "                    config={'max_new_tokens':128,\n",
    "                            'temperature':0.8})"
   ]
  },
  {
   "cell_type": "code",
   "execution_count": 42,
   "metadata": {},
   "outputs": [],
   "source": [
    "qa_chain = RetrievalQA.from_chain_type(\n",
    "    llm=llm,\n",
    "    retriever=retriever,\n",
    "    chain_type=\"stuff\",\n",
    "    chain_type_kwargs={\"prompt\": prompt},\n",
    ")"
   ]
  },
  {
   "cell_type": "code",
   "execution_count": 43,
   "metadata": {},
   "outputs": [
    {
     "name": "stdout",
     "output_type": "stream",
     "text": [
      "Answer: Diseases caused by internal factors include emotions such as stress, anxiety, depression, and other mental health conditions. External factors like pollution, poor dietition, nutr quality air quality of living conditions, air quality food choices infection, sanitation, sanitation, living conditions, living conditions atm weather conditions, air quality of hyght, living conditions, climate, living conditions, dietiongutation, environment and unhygst, living conditions, living conditions, nutr climate, unpasteur water quality air quality air quality air quality air quality air quality air quality air quality of san\n"
     ]
    }
   ],
   "source": [
    "question = \"Tell me about some human diseases?\"\n",
    "answer = qa_chain.run(question)\n",
    "print(f\"Answer: {answer}\")"
   ]
  },
  {
   "cell_type": "code",
   "execution_count": null,
   "metadata": {},
   "outputs": [],
   "source": []
  }
 ],
 "metadata": {
  "kernelspec": {
   "display_name": "openaidemo",
   "language": "python",
   "name": "python3"
  },
  "language_info": {
   "codemirror_mode": {
    "name": "ipython",
    "version": 3
   },
   "file_extension": ".py",
   "mimetype": "text/x-python",
   "name": "python",
   "nbconvert_exporter": "python",
   "pygments_lexer": "ipython3",
   "version": "3.10.16"
  }
 },
 "nbformat": 4,
 "nbformat_minor": 2
}
